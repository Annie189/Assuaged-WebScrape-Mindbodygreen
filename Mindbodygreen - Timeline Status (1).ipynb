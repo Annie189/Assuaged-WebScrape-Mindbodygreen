{
 "cells": [
  {
   "cell_type": "code",
   "execution_count": 71,
   "metadata": {},
   "outputs": [
    {
     "name": "stdout",
     "output_type": "stream",
     "text": [
      "Requirement already satisfied: tweepy in c:\\users\\phuonganh\\anaconda3\\lib\\site-packages (3.8.0)\n",
      "Requirement already satisfied: six>=1.10.0 in c:\\users\\phuonganh\\anaconda3\\lib\\site-packages (from tweepy) (1.12.0)\n",
      "Requirement already satisfied: requests-oauthlib>=0.7.0 in c:\\users\\phuonganh\\anaconda3\\lib\\site-packages (from tweepy) (1.3.0)\n",
      "Requirement already satisfied: requests>=2.11.1 in c:\\users\\phuonganh\\anaconda3\\lib\\site-packages (from tweepy) (2.22.0)\n",
      "Requirement already satisfied: PySocks>=1.5.7 in c:\\users\\phuonganh\\anaconda3\\lib\\site-packages (from tweepy) (1.7.1)\n",
      "Requirement already satisfied: oauthlib>=3.0.0 in c:\\users\\phuonganh\\anaconda3\\lib\\site-packages (from requests-oauthlib>=0.7.0->tweepy) (3.1.0)\n",
      "Requirement already satisfied: idna<2.9,>=2.5 in c:\\users\\phuonganh\\anaconda3\\lib\\site-packages (from requests>=2.11.1->tweepy) (2.8)\n",
      "Requirement already satisfied: certifi>=2017.4.17 in c:\\users\\phuonganh\\anaconda3\\lib\\site-packages (from requests>=2.11.1->tweepy) (2019.9.11)\n",
      "Requirement already satisfied: chardet<3.1.0,>=3.0.2 in c:\\users\\phuonganh\\anaconda3\\lib\\site-packages (from requests>=2.11.1->tweepy) (3.0.4)\n",
      "Requirement already satisfied: urllib3!=1.25.0,!=1.25.1,<1.26,>=1.21.1 in c:\\users\\phuonganh\\anaconda3\\lib\\site-packages (from requests>=2.11.1->tweepy) (1.24.2)\n",
      "Note: you may need to restart the kernel to use updated packages.\n"
     ]
    }
   ],
   "source": [
    "pip install tweepy"
   ]
  },
  {
   "cell_type": "code",
   "execution_count": 72,
   "metadata": {},
   "outputs": [],
   "source": [
    "import numpy as np\n",
    "import os\n",
    "import pandas as pd\n",
    "import matplotlib.pyplot as plt\n",
    "import seaborn as sns\n",
    "import requests\n",
    "import tweepy\n",
    "import json\n",
    "from timeit import default_timer as timer\n",
    "from tweepy import OAuthHandler"
   ]
  },
  {
   "cell_type": "code",
   "execution_count": 73,
   "metadata": {},
   "outputs": [],
   "source": [
    "## copy paste these\n",
    "consumer_key=''\n",
    "consumer_secret=''\n",
    "access_token=''\n",
    "access_token_secret=''"
   ]
  },
  {
   "cell_type": "code",
   "execution_count": 74,
   "metadata": {},
   "outputs": [],
   "source": [
    "auth = tweepy.OAuthHandler(consumer_key, consumer_secret)\n",
    "auth.set_access_token(access_token, access_token_secret)\n",
    "api = tweepy.API(auth,wait_on_rate_limit=True,wait_on_rate_limit_notify=True)"
   ]
  },
  {
   "cell_type": "markdown",
   "metadata": {},
   "source": [
    "# I. Content"
   ]
  },
  {
   "cell_type": "markdown",
   "metadata": {},
   "source": [
    "# 1. Gathering Data"
   ]
  },
  {
   "cell_type": "code",
   "execution_count": 75,
   "metadata": {},
   "outputs": [],
   "source": [
    "screen_name='mindbodygreen' #user name\n",
    "count=200    #max=200\n",
    "page=0       #page 0 represent most recent tweets\n",
    "tweets=api.user_timeline(screen_name=screen_name,count=count,page=0)"
   ]
  },
  {
   "cell_type": "code",
   "execution_count": 76,
   "metadata": {},
   "outputs": [
    {
     "data": {
      "text/plain": [
       "3414"
      ]
     },
     "execution_count": 76,
     "metadata": {},
     "output_type": "execute_result"
    }
   ],
   "source": [
    "# scraping pages from 0 to 29\n",
    "pages = np.arange(30)\n",
    "\n",
    "txts = []\n",
    "for page in pages: \n",
    "    tweets = api.user_timeline(screen_name=screen_name, count=count, page=page)\n",
    "    for tweet in tweets: \n",
    "        txts.append(json.loads(json.dumps(tweet._json)))\n",
    "\n",
    "len(txts)"
   ]
  },
  {
   "cell_type": "code",
   "execution_count": 77,
   "metadata": {},
   "outputs": [
    {
     "data": {
      "text/plain": [
       "{'created_at': 'Wed Nov 27 22:01:01 +0000 2019',\n",
       " 'id': 1199810385127313408,\n",
       " 'id_str': '1199810385127313408',\n",
       " 'text': 'Your favorite, kid-approved side dish just got a low-carb makeover. 😋 https://t.co/qgMk7pxFSV',\n",
       " 'truncated': False,\n",
       " 'entities': {'hashtags': [],\n",
       "  'symbols': [],\n",
       "  'user_mentions': [],\n",
       "  'urls': [{'url': 'https://t.co/qgMk7pxFSV',\n",
       "    'expanded_url': 'http://ow.ly/xfys30pVyHW',\n",
       "    'display_url': 'ow.ly/xfys30pVyHW',\n",
       "    'indices': [70, 93]}]},\n",
       " 'source': '<a href=\"https://www.hootsuite.com\" rel=\"nofollow\">Hootsuite Inc.</a>',\n",
       " 'in_reply_to_status_id': None,\n",
       " 'in_reply_to_status_id_str': None,\n",
       " 'in_reply_to_user_id': None,\n",
       " 'in_reply_to_user_id_str': None,\n",
       " 'in_reply_to_screen_name': None,\n",
       " 'user': {'id': 17781673,\n",
       "  'id_str': '17781673',\n",
       "  'name': 'mindbodygreen',\n",
       "  'screen_name': 'mindbodygreen',\n",
       "  'location': 'Brooklyn, NY',\n",
       "  'description': 'connecting soul & science. 💫',\n",
       "  'url': 'http://t.co/xQ41BHxbiB',\n",
       "  'entities': {'url': {'urls': [{'url': 'http://t.co/xQ41BHxbiB',\n",
       "      'expanded_url': 'http://www.mindbodygreen.com',\n",
       "      'display_url': 'mindbodygreen.com',\n",
       "      'indices': [0, 22]}]},\n",
       "   'description': {'urls': []}},\n",
       "  'protected': False,\n",
       "  'followers_count': 305162,\n",
       "  'friends_count': 595,\n",
       "  'listed_count': 4823,\n",
       "  'created_at': 'Mon Dec 01 16:00:58 +0000 2008',\n",
       "  'favourites_count': 17895,\n",
       "  'utc_offset': None,\n",
       "  'time_zone': None,\n",
       "  'geo_enabled': True,\n",
       "  'verified': True,\n",
       "  'statuses_count': 84181,\n",
       "  'lang': None,\n",
       "  'contributors_enabled': False,\n",
       "  'is_translator': False,\n",
       "  'is_translation_enabled': False,\n",
       "  'profile_background_color': '0A0A0A',\n",
       "  'profile_background_image_url': 'http://abs.twimg.com/images/themes/theme1/bg.png',\n",
       "  'profile_background_image_url_https': 'https://abs.twimg.com/images/themes/theme1/bg.png',\n",
       "  'profile_background_tile': True,\n",
       "  'profile_image_url': 'http://pbs.twimg.com/profile_images/924958204043264000/5676I8Tq_normal.jpg',\n",
       "  'profile_image_url_https': 'https://pbs.twimg.com/profile_images/924958204043264000/5676I8Tq_normal.jpg',\n",
       "  'profile_banner_url': 'https://pbs.twimg.com/profile_banners/17781673/1573249979',\n",
       "  'profile_link_color': '91D2FA',\n",
       "  'profile_sidebar_border_color': 'FFFFFF',\n",
       "  'profile_sidebar_fill_color': '6E94CC',\n",
       "  'profile_text_color': '000000',\n",
       "  'profile_use_background_image': True,\n",
       "  'has_extended_profile': False,\n",
       "  'default_profile': False,\n",
       "  'default_profile_image': False,\n",
       "  'following': True,\n",
       "  'follow_request_sent': False,\n",
       "  'notifications': False,\n",
       "  'translator_type': 'none'},\n",
       " 'geo': None,\n",
       " 'coordinates': None,\n",
       " 'place': None,\n",
       " 'contributors': None,\n",
       " 'is_quote_status': False,\n",
       " 'retweet_count': 1,\n",
       " 'favorite_count': 4,\n",
       " 'favorited': False,\n",
       " 'retweeted': False,\n",
       " 'possibly_sensitive': False,\n",
       " 'lang': 'en'}"
      ]
     },
     "execution_count": 77,
     "metadata": {},
     "output_type": "execute_result"
    }
   ],
   "source": [
    "txts[3413]"
   ]
  },
  {
   "cell_type": "code",
   "execution_count": 78,
   "metadata": {},
   "outputs": [],
   "source": [
    "#get values lists\n",
    "time = []\n",
    "twtid = []\n",
    "text = []\n",
    "favorite_count = []\n",
    "retweet_count=[]\n",
    "hashtags=[]\n",
    "url=[]\n",
    "\n",
    "favorite_count=[]\n",
    "for line in txts:\n",
    "    time.append(line['created_at'])\n",
    "    twtid.append(line['id'])\n",
    "    text.append(line['text'])\n",
    "    favorite_count.append(line['favorite_count'])\n",
    "    retweet_count.append(line['retweet_count'])\n",
    "    hashtags.append(line['entities']['hashtags'])\n",
    "    url.append(line['entities']['urls'])"
   ]
  },
  {
   "cell_type": "code",
   "execution_count": 79,
   "metadata": {},
   "outputs": [
    {
     "name": "stdout",
     "output_type": "stream",
     "text": [
      "Requirement already satisfied: preprocessing in c:\\users\\phuonganh\\anaconda3\\lib\\site-packages (0.1.13)\n",
      "Requirement already satisfied: nltk==3.2.4 in c:\\users\\phuonganh\\anaconda3\\lib\\site-packages (from preprocessing) (3.2.4)\n",
      "Requirement already satisfied: sphinx-rtd-theme==0.2.4 in c:\\users\\phuonganh\\anaconda3\\lib\\site-packages (from preprocessing) (0.2.4)\n",
      "Requirement already satisfied: six in c:\\users\\phuonganh\\anaconda3\\lib\\site-packages (from nltk==3.2.4->preprocessing) (1.12.0)\n",
      "Note: you may need to restart the kernel to use updated packages.\n"
     ]
    }
   ],
   "source": [
    "pip install preprocessing"
   ]
  },
  {
   "cell_type": "code",
   "execution_count": 80,
   "metadata": {},
   "outputs": [
    {
     "name": "stdout",
     "output_type": "stream",
     "text": [
      "Requirement already satisfied: tweet-preprocessor in c:\\users\\phuonganh\\anaconda3\\lib\\site-packages (0.6.0)\n",
      "Note: you may need to restart the kernel to use updated packages.\n"
     ]
    }
   ],
   "source": [
    "pip install tweet-preprocessor"
   ]
  },
  {
   "cell_type": "code",
   "execution_count": 81,
   "metadata": {},
   "outputs": [
    {
     "data": {
      "text/plain": [
       "['We reached out to registered dietitians who explain the health benefits and side effects, plus how to get more in a']"
      ]
     },
     "execution_count": 81,
     "metadata": {},
     "output_type": "execute_result"
    }
   ],
   "source": [
    "# remove urls and hashtags in text\n",
    "#!pip install tweet-preprocessor \n",
    "\n",
    "import preprocessor as p\n",
    "p.clean(text[1])\n",
    "\n",
    "# remove hushtags and urls in all descriptions\n",
    "text_clean = []\n",
    "for line in text:\n",
    "    text_clean.append(p.clean(line))\n",
    "text_clean[:1]"
   ]
  },
  {
   "cell_type": "markdown",
   "metadata": {},
   "source": [
    "# 2. Assessing Data"
   ]
  },
  {
   "cell_type": "code",
   "execution_count": 82,
   "metadata": {},
   "outputs": [
    {
     "data": {
      "text/html": [
       "<div>\n",
       "<style scoped>\n",
       "    .dataframe tbody tr th:only-of-type {\n",
       "        vertical-align: middle;\n",
       "    }\n",
       "\n",
       "    .dataframe tbody tr th {\n",
       "        vertical-align: top;\n",
       "    }\n",
       "\n",
       "    .dataframe thead th {\n",
       "        text-align: right;\n",
       "    }\n",
       "</style>\n",
       "<table border=\"1\" class=\"dataframe\">\n",
       "  <thead>\n",
       "    <tr style=\"text-align: right;\">\n",
       "      <th></th>\n",
       "      <th>created_at</th>\n",
       "      <th>tweet_id</th>\n",
       "      <th>text_clean</th>\n",
       "      <th>favorite_count</th>\n",
       "      <th>retweet_count</th>\n",
       "      <th>hashtags</th>\n",
       "      <th>url</th>\n",
       "    </tr>\n",
       "  </thead>\n",
       "  <tbody>\n",
       "    <tr>\n",
       "      <td>0</td>\n",
       "      <td>Fri Jul 31 19:01:44 +0000 2020</td>\n",
       "      <td>1289275069370310656</td>\n",
       "      <td>We reached out to registered dietitians who ex...</td>\n",
       "      <td>2</td>\n",
       "      <td>1</td>\n",
       "      <td>[]</td>\n",
       "      <td>[{'url': 'https://t.co/nyAEuWKwWN', 'expanded_...</td>\n",
       "    </tr>\n",
       "    <tr>\n",
       "      <td>1</td>\n",
       "      <td>Fri Jul 31 17:03:42 +0000 2020</td>\n",
       "      <td>1289245366081093632</td>\n",
       "      <td>Happy . Here's how we're celebrating:</td>\n",
       "      <td>9</td>\n",
       "      <td>4</td>\n",
       "      <td>[{'text': 'NationalAvocadoDay', 'indices': [6,...</td>\n",
       "      <td>[{'url': 'https://t.co/gE60WESbnB', 'expanded_...</td>\n",
       "    </tr>\n",
       "    <tr>\n",
       "      <td>2</td>\n",
       "      <td>Fri Jul 31 15:03:04 +0000 2020</td>\n",
       "      <td>1289215003954831360</td>\n",
       "      <td>Before figuring out how your own body reacts t...</td>\n",
       "      <td>8</td>\n",
       "      <td>3</td>\n",
       "      <td>[]</td>\n",
       "      <td>[{'url': 'https://t.co/ixbJop7ZvT', 'expanded_...</td>\n",
       "    </tr>\n",
       "    <tr>\n",
       "      <td>3</td>\n",
       "      <td>Fri Jul 31 14:03:14 +0000 2020</td>\n",
       "      <td>1289199948404101120</td>\n",
       "      <td>We caught up with functional medicine leaders,...</td>\n",
       "      <td>9</td>\n",
       "      <td>3</td>\n",
       "      <td>[]</td>\n",
       "      <td>[{'url': 'https://t.co/atohj6rQy9', 'expanded_...</td>\n",
       "    </tr>\n",
       "    <tr>\n",
       "      <td>4</td>\n",
       "      <td>Fri Jul 31 13:02:53 +0000 2020</td>\n",
       "      <td>1289184761349459969</td>\n",
       "      <td>To acknowledge the beginning of harvest season...</td>\n",
       "      <td>11</td>\n",
       "      <td>3</td>\n",
       "      <td>[]</td>\n",
       "      <td>[{'url': 'https://t.co/jceakbNXM7', 'expanded_...</td>\n",
       "    </tr>\n",
       "    <tr>\n",
       "      <td>...</td>\n",
       "      <td>...</td>\n",
       "      <td>...</td>\n",
       "      <td>...</td>\n",
       "      <td>...</td>\n",
       "      <td>...</td>\n",
       "      <td>...</td>\n",
       "      <td>...</td>\n",
       "    </tr>\n",
       "    <tr>\n",
       "      <td>3409</td>\n",
       "      <td>Thu Nov 28 06:00:19 +0000 2019</td>\n",
       "      <td>1199931001599860736</td>\n",
       "      <td>\"I fell in love with the texture at first use,...</td>\n",
       "      <td>8</td>\n",
       "      <td>2</td>\n",
       "      <td>[]</td>\n",
       "      <td>[{'url': 'https://t.co/NhvEuTumKX', 'expanded_...</td>\n",
       "    </tr>\n",
       "    <tr>\n",
       "      <td>3410</td>\n",
       "      <td>Thu Nov 28 04:00:10 +0000 2019</td>\n",
       "      <td>1199900768125562880</td>\n",
       "      <td>The common ways your shadow may be sabotaging ...</td>\n",
       "      <td>2</td>\n",
       "      <td>0</td>\n",
       "      <td>[]</td>\n",
       "      <td>[{'url': 'https://t.co/z7FxuXG1nX', 'expanded_...</td>\n",
       "    </tr>\n",
       "    <tr>\n",
       "      <td>3411</td>\n",
       "      <td>Thu Nov 28 02:00:35 +0000 2019</td>\n",
       "      <td>1199870672077500416</td>\n",
       "      <td>Our love affair with all things tech is taking...</td>\n",
       "      <td>13</td>\n",
       "      <td>11</td>\n",
       "      <td>[]</td>\n",
       "      <td>[{'url': 'https://t.co/4nJUUbjAbm', 'expanded_...</td>\n",
       "    </tr>\n",
       "    <tr>\n",
       "      <td>3412</td>\n",
       "      <td>Thu Nov 28 00:00:54 +0000 2019</td>\n",
       "      <td>1199840553552232450</td>\n",
       "      <td>Here are both preventive strategies this exper...</td>\n",
       "      <td>15</td>\n",
       "      <td>7</td>\n",
       "      <td>[]</td>\n",
       "      <td>[{'url': 'https://t.co/c97nBD2MeC', 'expanded_...</td>\n",
       "    </tr>\n",
       "    <tr>\n",
       "      <td>3413</td>\n",
       "      <td>Wed Nov 27 22:01:01 +0000 2019</td>\n",
       "      <td>1199810385127313408</td>\n",
       "      <td>Your favorite, kid-approved side dish just got...</td>\n",
       "      <td>4</td>\n",
       "      <td>1</td>\n",
       "      <td>[]</td>\n",
       "      <td>[{'url': 'https://t.co/qgMk7pxFSV', 'expanded_...</td>\n",
       "    </tr>\n",
       "  </tbody>\n",
       "</table>\n",
       "<p>3414 rows × 7 columns</p>\n",
       "</div>"
      ],
      "text/plain": [
       "                          created_at             tweet_id  \\\n",
       "0     Fri Jul 31 19:01:44 +0000 2020  1289275069370310656   \n",
       "1     Fri Jul 31 17:03:42 +0000 2020  1289245366081093632   \n",
       "2     Fri Jul 31 15:03:04 +0000 2020  1289215003954831360   \n",
       "3     Fri Jul 31 14:03:14 +0000 2020  1289199948404101120   \n",
       "4     Fri Jul 31 13:02:53 +0000 2020  1289184761349459969   \n",
       "...                              ...                  ...   \n",
       "3409  Thu Nov 28 06:00:19 +0000 2019  1199931001599860736   \n",
       "3410  Thu Nov 28 04:00:10 +0000 2019  1199900768125562880   \n",
       "3411  Thu Nov 28 02:00:35 +0000 2019  1199870672077500416   \n",
       "3412  Thu Nov 28 00:00:54 +0000 2019  1199840553552232450   \n",
       "3413  Wed Nov 27 22:01:01 +0000 2019  1199810385127313408   \n",
       "\n",
       "                                             text_clean  favorite_count  \\\n",
       "0     We reached out to registered dietitians who ex...               2   \n",
       "1                 Happy . Here's how we're celebrating:               9   \n",
       "2     Before figuring out how your own body reacts t...               8   \n",
       "3     We caught up with functional medicine leaders,...               9   \n",
       "4     To acknowledge the beginning of harvest season...              11   \n",
       "...                                                 ...             ...   \n",
       "3409  \"I fell in love with the texture at first use,...               8   \n",
       "3410  The common ways your shadow may be sabotaging ...               2   \n",
       "3411  Our love affair with all things tech is taking...              13   \n",
       "3412  Here are both preventive strategies this exper...              15   \n",
       "3413  Your favorite, kid-approved side dish just got...               4   \n",
       "\n",
       "      retweet_count                                           hashtags  \\\n",
       "0                 1                                                 []   \n",
       "1                 4  [{'text': 'NationalAvocadoDay', 'indices': [6,...   \n",
       "2                 3                                                 []   \n",
       "3                 3                                                 []   \n",
       "4                 3                                                 []   \n",
       "...             ...                                                ...   \n",
       "3409              2                                                 []   \n",
       "3410              0                                                 []   \n",
       "3411             11                                                 []   \n",
       "3412              7                                                 []   \n",
       "3413              1                                                 []   \n",
       "\n",
       "                                                    url  \n",
       "0     [{'url': 'https://t.co/nyAEuWKwWN', 'expanded_...  \n",
       "1     [{'url': 'https://t.co/gE60WESbnB', 'expanded_...  \n",
       "2     [{'url': 'https://t.co/ixbJop7ZvT', 'expanded_...  \n",
       "3     [{'url': 'https://t.co/atohj6rQy9', 'expanded_...  \n",
       "4     [{'url': 'https://t.co/jceakbNXM7', 'expanded_...  \n",
       "...                                                 ...  \n",
       "3409  [{'url': 'https://t.co/NhvEuTumKX', 'expanded_...  \n",
       "3410  [{'url': 'https://t.co/z7FxuXG1nX', 'expanded_...  \n",
       "3411  [{'url': 'https://t.co/4nJUUbjAbm', 'expanded_...  \n",
       "3412  [{'url': 'https://t.co/c97nBD2MeC', 'expanded_...  \n",
       "3413  [{'url': 'https://t.co/qgMk7pxFSV', 'expanded_...  \n",
       "\n",
       "[3414 rows x 7 columns]"
      ]
     },
     "execution_count": 82,
     "metadata": {},
     "output_type": "execute_result"
    }
   ],
   "source": [
    "# create data frame\n",
    "df = pd.DataFrame(list(zip(time, twtid, text_clean, favorite_count, retweet_count, hashtags, url)),\n",
    "                             columns=['created_at', 'tweet_id','text_clean','favorite_count','retweet_count',\n",
    "                                     'hashtags','url'])\n",
    "df"
   ]
  },
  {
   "cell_type": "code",
   "execution_count": 83,
   "metadata": {},
   "outputs": [
    {
     "data": {
      "text/plain": [
       "Avoid these to make finding your partner way more pleasantand more likely!                                             4\n",
       "They might sound similar, but they actually have different symptoms and require totally different treatments.          4\n",
       "When feels a cold coming on, he reaches for the varieties that will fight off the illness completely (o                4\n",
       "We've been wondering: Are collagen powder and protein powder interchangeable?                                          4\n",
       "No. : \"Boundaries aren't meant to keep people out; they're meant to make it easier for people to get close.\"           4\n",
       "                                                                                                                      ..\n",
       "While crystals won't do all the work for us, theyre an accessible tool for harnessing good energies + reminding us     1\n",
       "Just as almonds provide nutrition and health benefits to our diets, they are full of health benefits for our strand    1\n",
       "There's more to tending to your complexion than a bathroom cabinet full of millennial-pink products. Here, our be      1\n",
       "Integrative medicine doctor knows how to optimize her focus, energy + metabolism. And guess what? Her -                1\n",
       "What specific social skills were lost? Here's what the researchers found:                                              1\n",
       "Name: text_clean, Length: 3039, dtype: int64"
      ]
     },
     "execution_count": 83,
     "metadata": {},
     "output_type": "execute_result"
    }
   ],
   "source": [
    "df['text_clean'].value_counts()"
   ]
  },
  {
   "cell_type": "code",
   "execution_count": 16,
   "metadata": {},
   "outputs": [
    {
     "data": {
      "text/html": [
       "<div>\n",
       "<style scoped>\n",
       "    .dataframe tbody tr th:only-of-type {\n",
       "        vertical-align: middle;\n",
       "    }\n",
       "\n",
       "    .dataframe tbody tr th {\n",
       "        vertical-align: top;\n",
       "    }\n",
       "\n",
       "    .dataframe thead th {\n",
       "        text-align: right;\n",
       "    }\n",
       "</style>\n",
       "<table border=\"1\" class=\"dataframe\">\n",
       "  <thead>\n",
       "    <tr style=\"text-align: right;\">\n",
       "      <th></th>\n",
       "      <th>tweet_id</th>\n",
       "      <th>favorite_count</th>\n",
       "      <th>retweet_count</th>\n",
       "    </tr>\n",
       "  </thead>\n",
       "  <tbody>\n",
       "    <tr>\n",
       "      <td>count</td>\n",
       "      <td>3.413000e+03</td>\n",
       "      <td>3413.000000</td>\n",
       "      <td>3413.000000</td>\n",
       "    </tr>\n",
       "    <tr>\n",
       "      <td>mean</td>\n",
       "      <td>1.246019e+18</td>\n",
       "      <td>10.918840</td>\n",
       "      <td>3.947260</td>\n",
       "    </tr>\n",
       "    <tr>\n",
       "      <td>std</td>\n",
       "      <td>2.685540e+16</td>\n",
       "      <td>8.122424</td>\n",
       "      <td>3.348921</td>\n",
       "    </tr>\n",
       "    <tr>\n",
       "      <td>min</td>\n",
       "      <td>1.199810e+18</td>\n",
       "      <td>0.000000</td>\n",
       "      <td>0.000000</td>\n",
       "    </tr>\n",
       "    <tr>\n",
       "      <td>25%</td>\n",
       "      <td>1.222701e+18</td>\n",
       "      <td>5.000000</td>\n",
       "      <td>2.000000</td>\n",
       "    </tr>\n",
       "    <tr>\n",
       "      <td>50%</td>\n",
       "      <td>1.245728e+18</td>\n",
       "      <td>9.000000</td>\n",
       "      <td>3.000000</td>\n",
       "    </tr>\n",
       "    <tr>\n",
       "      <td>75%</td>\n",
       "      <td>1.269676e+18</td>\n",
       "      <td>14.000000</td>\n",
       "      <td>5.000000</td>\n",
       "    </tr>\n",
       "    <tr>\n",
       "      <td>max</td>\n",
       "      <td>1.289245e+18</td>\n",
       "      <td>73.000000</td>\n",
       "      <td>28.000000</td>\n",
       "    </tr>\n",
       "  </tbody>\n",
       "</table>\n",
       "</div>"
      ],
      "text/plain": [
       "           tweet_id  favorite_count  retweet_count\n",
       "count  3.413000e+03     3413.000000    3413.000000\n",
       "mean   1.246019e+18       10.918840       3.947260\n",
       "std    2.685540e+16        8.122424       3.348921\n",
       "min    1.199810e+18        0.000000       0.000000\n",
       "25%    1.222701e+18        5.000000       2.000000\n",
       "50%    1.245728e+18        9.000000       3.000000\n",
       "75%    1.269676e+18       14.000000       5.000000\n",
       "max    1.289245e+18       73.000000      28.000000"
      ]
     },
     "execution_count": 16,
     "metadata": {},
     "output_type": "execute_result"
    }
   ],
   "source": [
    "df.describe()"
   ]
  },
  {
   "cell_type": "code",
   "execution_count": 84,
   "metadata": {},
   "outputs": [
    {
     "name": "stdout",
     "output_type": "stream",
     "text": [
      "<class 'pandas.core.frame.DataFrame'>\n",
      "RangeIndex: 3414 entries, 0 to 3413\n",
      "Data columns (total 7 columns):\n",
      "created_at        3414 non-null object\n",
      "tweet_id          3414 non-null int64\n",
      "text_clean        3414 non-null object\n",
      "favorite_count    3414 non-null int64\n",
      "retweet_count     3414 non-null int64\n",
      "hashtags          3414 non-null object\n",
      "url               3414 non-null object\n",
      "dtypes: int64(3), object(4)\n",
      "memory usage: 186.8+ KB\n"
     ]
    }
   ],
   "source": [
    "df.info()"
   ]
  },
  {
   "cell_type": "markdown",
   "metadata": {},
   "source": [
    "# 3. Clean & Store Data"
   ]
  },
  {
   "cell_type": "code",
   "execution_count": 85,
   "metadata": {},
   "outputs": [],
   "source": [
    "#copy data\n",
    "clean_df= df.copy()"
   ]
  },
  {
   "cell_type": "code",
   "execution_count": 86,
   "metadata": {},
   "outputs": [
    {
     "name": "stdout",
     "output_type": "stream",
     "text": [
      "<class 'pandas.core.frame.DataFrame'>\n",
      "RangeIndex: 3414 entries, 0 to 3413\n",
      "Data columns (total 7 columns):\n",
      "created_at        3414 non-null object\n",
      "tweet_id          3414 non-null int64\n",
      "text_clean        3414 non-null object\n",
      "favorite_count    3414 non-null int64\n",
      "retweet_count     3414 non-null int64\n",
      "hashtags          3414 non-null object\n",
      "url               3414 non-null object\n",
      "dtypes: int64(3), object(4)\n",
      "memory usage: 186.8+ KB\n"
     ]
    }
   ],
   "source": [
    "clean_df.info()"
   ]
  },
  {
   "cell_type": "markdown",
   "metadata": {},
   "source": [
    "CLEAN HASHTAGS"
   ]
  },
  {
   "cell_type": "code",
   "execution_count": 87,
   "metadata": {
    "scrolled": false
   },
   "outputs": [
    {
     "data": {
      "text/plain": [
       "[]                                                           3302\n",
       "[{'text': 'mbgPodcast', 'indices': [8, 19]}]                   25\n",
       "[{'text': 'mbgPodcast', 'indices': [11, 22]}]                  14\n",
       "[{'text': 'mbgpartner', 'indices': [127, 138]}]                 2\n",
       "[{'text': 'NationalIceCreamDay', 'indices': [5, 25]}]           2\n",
       "                                                             ... \n",
       "[{'text': 'NationalDisabilityDay', 'indices': [14, 36]}]        1\n",
       "[{'text': 'mbgpartner', 'indices': [117, 128]}]                 1\n",
       "[{'text': 'InternationalWomensDay', 'indices': [26, 49]}]       1\n",
       "[{'text': 'mbgPodcast', 'indices': [56, 67]}]                   1\n",
       "[{'text': 'mbgPodcast', 'indices': [70, 81]}]                   1\n",
       "Name: hashtags, Length: 67, dtype: int64"
      ]
     },
     "execution_count": 87,
     "metadata": {},
     "output_type": "execute_result"
    }
   ],
   "source": [
    "clean_df['hashtags'].value_counts()"
   ]
  },
  {
   "cell_type": "code",
   "execution_count": 88,
   "metadata": {},
   "outputs": [],
   "source": [
    "import re\n",
    "import string"
   ]
  },
  {
   "cell_type": "code",
   "execution_count": 89,
   "metadata": {},
   "outputs": [],
   "source": [
    "#remove '[]' in hashtags\n",
    "clean_df.hashtags = clean_df.hashtags.replace('[]','')"
   ]
  },
  {
   "cell_type": "code",
   "execution_count": 90,
   "metadata": {},
   "outputs": [],
   "source": [
    "#convert hashtags into string\n",
    "clean_df['hashtags']=clean_df['hashtags'].apply(str)"
   ]
  },
  {
   "cell_type": "code",
   "execution_count": 91,
   "metadata": {},
   "outputs": [
    {
     "data": {
      "text/plain": [
       "[]"
      ]
     },
     "execution_count": 91,
     "metadata": {},
     "output_type": "execute_result"
    }
   ],
   "source": [
    "# look behind\n",
    "re.findall(r\"(?<='text':\\s\\')\\w+\",clean_df.hashtags[3])"
   ]
  },
  {
   "cell_type": "code",
   "execution_count": 92,
   "metadata": {},
   "outputs": [
    {
     "data": {
      "text/plain": [
       "''"
      ]
     },
     "execution_count": 92,
     "metadata": {},
     "output_type": "execute_result"
    }
   ],
   "source": [
    "' '.join(re.findall(r\"(?<='text':\\s\\')\\w+\",clean_df.hashtags[3]))"
   ]
  },
  {
   "cell_type": "code",
   "execution_count": 93,
   "metadata": {},
   "outputs": [],
   "source": [
    "# apply to every rows\n",
    "clean_df.hashtags=clean_df.hashtags.apply(lambda row: ' '.join(re.findall(r\"(?<='text':\\s\\')\\w+\",row)))"
   ]
  },
  {
   "cell_type": "code",
   "execution_count": 94,
   "metadata": {},
   "outputs": [
    {
     "data": {
      "text/plain": [
       "                                      3302\n",
       "mbgPodcast                              54\n",
       "mbgpartner                              16\n",
       "TraderJoes                               8\n",
       "NationalIceCreamDay                      4\n",
       "NationalHempDay                          3\n",
       "NationalAvocadoDay                       2\n",
       "AmericanPistachios mbgpartner            2\n",
       "mbgpodcast                               1\n",
       "BettyWhite                               1\n",
       "InternationalWomensDay                   1\n",
       "EarthDay                                 1\n",
       "aerieReal                                1\n",
       "ad                                       1\n",
       "PlasticFreeJuly                          1\n",
       "Clean15                                  1\n",
       "EllieKemper                              1\n",
       "chomps cantstopwontstop mbgpartner       1\n",
       "mbgPodcasat                              1\n",
       "BlackBotanistsWeek                       1\n",
       "NationalDisabilityDay                    1\n",
       "covergirls                               1\n",
       "ReneeZellweger                           1\n",
       "GalentinesDay                            1\n",
       "LUNYA mbgpartner                         1\n",
       "MothersDay                               1\n",
       "NationalBagelDay                         1\n",
       "FridgeGoals                              1\n",
       "CincodeMayo                              1\n",
       "QuarantineCrew                           1\n",
       "ObjectiveWellness                        1\n",
       "Name: hashtags, dtype: int64"
      ]
     },
     "execution_count": 94,
     "metadata": {},
     "output_type": "execute_result"
    }
   ],
   "source": [
    "#check again\n",
    "clean_df.hashtags.value_counts()"
   ]
  },
  {
   "cell_type": "markdown",
   "metadata": {},
   "source": [
    "CONVERT TIME TO RIGHT DATA TYPE & DATETIME"
   ]
  },
  {
   "cell_type": "code",
   "execution_count": 95,
   "metadata": {},
   "outputs": [],
   "source": [
    "# Convert timestamp datatype to datetime\n",
    "clean_df['created_at'] = pd.to_datetime(clean_df['created_at'], infer_datetime_format=True)"
   ]
  },
  {
   "cell_type": "code",
   "execution_count": 96,
   "metadata": {},
   "outputs": [
    {
     "name": "stdout",
     "output_type": "stream",
     "text": [
      "<class 'pandas.core.frame.DataFrame'>\n",
      "RangeIndex: 3414 entries, 0 to 3413\n",
      "Data columns (total 7 columns):\n",
      "created_at        3414 non-null datetime64[ns, UTC]\n",
      "tweet_id          3414 non-null int64\n",
      "text_clean        3414 non-null object\n",
      "favorite_count    3414 non-null int64\n",
      "retweet_count     3414 non-null int64\n",
      "hashtags          3414 non-null object\n",
      "url               3414 non-null object\n",
      "dtypes: datetime64[ns, UTC](1), int64(3), object(3)\n",
      "memory usage: 186.8+ KB\n"
     ]
    }
   ],
   "source": [
    "#Check again\n",
    "clean_df.info()"
   ]
  },
  {
   "cell_type": "code",
   "execution_count": 99,
   "metadata": {},
   "outputs": [],
   "source": [
    "#save 1st file\n",
    "clean_df.to_csv('Clean_data_Mindbodygreen.csv', encoding='utf-8', index=False)"
   ]
  },
  {
   "cell_type": "code",
   "execution_count": 100,
   "metadata": {},
   "outputs": [
    {
     "name": "stdout",
     "output_type": "stream",
     "text": [
      "<class 'pandas.core.frame.DataFrame'>\n",
      "RangeIndex: 3414 entries, 0 to 3413\n",
      "Data columns (total 7 columns):\n",
      "created_at        3414 non-null object\n",
      "tweet_id          3414 non-null int64\n",
      "text_clean        3414 non-null object\n",
      "favorite_count    3414 non-null int64\n",
      "retweet_count     3414 non-null int64\n",
      "hashtags          112 non-null object\n",
      "url               3414 non-null object\n",
      "dtypes: int64(3), object(4)\n",
      "memory usage: 186.8+ KB\n"
     ]
    }
   ],
   "source": [
    "#CHECK AGAIN\n",
    "new_df = pd.read_csv('Clean_data_Mindbodygreen.csv')\n",
    "new_df.info()"
   ]
  },
  {
   "cell_type": "markdown",
   "metadata": {},
   "source": [
    "CHECK DUPLICATES"
   ]
  },
  {
   "cell_type": "code",
   "execution_count": 101,
   "metadata": {},
   "outputs": [
    {
     "data": {
      "text/plain": [
       "199"
      ]
     },
     "execution_count": 101,
     "metadata": {},
     "output_type": "execute_result"
    }
   ],
   "source": [
    "sum(new_df.duplicated())"
   ]
  },
  {
   "cell_type": "code",
   "execution_count": 102,
   "metadata": {},
   "outputs": [
    {
     "data": {
      "text/plain": [
       "1289199948404101120    2\n",
       "1284020342923710464    2\n",
       "1286496396590436353    2\n",
       "1286858738511622144    2\n",
       "1283869401620590592    2\n",
       "                      ..\n",
       "1213098100602081280    1\n",
       "1267018105919868929    1\n",
       "1213309119911866368    1\n",
       "1281725131912630273    1\n",
       "1234689994192805888    1\n",
       "Name: tweet_id, Length: 3214, dtype: int64"
      ]
     },
     "execution_count": 102,
     "metadata": {},
     "output_type": "execute_result"
    }
   ],
   "source": [
    "new_df['tweet_id'].value_counts()"
   ]
  },
  {
   "cell_type": "code",
   "execution_count": 103,
   "metadata": {},
   "outputs": [],
   "source": [
    "#remove duplicates\n",
    "new_df.drop_duplicates(inplace=True)"
   ]
  },
  {
   "cell_type": "code",
   "execution_count": 104,
   "metadata": {},
   "outputs": [
    {
     "data": {
      "text/plain": [
       "0"
      ]
     },
     "execution_count": 104,
     "metadata": {},
     "output_type": "execute_result"
    }
   ],
   "source": [
    "#check again\n",
    "sum(new_df.duplicated())"
   ]
  },
  {
   "cell_type": "code",
   "execution_count": 105,
   "metadata": {},
   "outputs": [],
   "source": [
    "#SAVE FINAL CSV FILE\n",
    "new_df.to_csv('Final_Clean_Mindbodygreen.csv', encoding='utf-8', index=False)"
   ]
  },
  {
   "cell_type": "code",
   "execution_count": 106,
   "metadata": {
    "scrolled": true
   },
   "outputs": [
    {
     "data": {
      "text/html": [
       "<div>\n",
       "<style scoped>\n",
       "    .dataframe tbody tr th:only-of-type {\n",
       "        vertical-align: middle;\n",
       "    }\n",
       "\n",
       "    .dataframe tbody tr th {\n",
       "        vertical-align: top;\n",
       "    }\n",
       "\n",
       "    .dataframe thead th {\n",
       "        text-align: right;\n",
       "    }\n",
       "</style>\n",
       "<table border=\"1\" class=\"dataframe\">\n",
       "  <thead>\n",
       "    <tr style=\"text-align: right;\">\n",
       "      <th></th>\n",
       "      <th>created_at</th>\n",
       "      <th>tweet_id</th>\n",
       "      <th>text_clean</th>\n",
       "      <th>favorite_count</th>\n",
       "      <th>retweet_count</th>\n",
       "      <th>hashtags</th>\n",
       "      <th>url</th>\n",
       "    </tr>\n",
       "  </thead>\n",
       "  <tbody>\n",
       "    <tr>\n",
       "      <td>0</td>\n",
       "      <td>2020-07-31 19:01:44+00:00</td>\n",
       "      <td>1289275069370310656</td>\n",
       "      <td>We reached out to registered dietitians who ex...</td>\n",
       "      <td>2</td>\n",
       "      <td>1</td>\n",
       "      <td>NaN</td>\n",
       "      <td>[{'url': 'https://t.co/nyAEuWKwWN', 'expanded_...</td>\n",
       "    </tr>\n",
       "    <tr>\n",
       "      <td>1</td>\n",
       "      <td>2020-07-31 17:03:42+00:00</td>\n",
       "      <td>1289245366081093632</td>\n",
       "      <td>Happy . Here's how we're celebrating:</td>\n",
       "      <td>9</td>\n",
       "      <td>4</td>\n",
       "      <td>NationalAvocadoDay</td>\n",
       "      <td>[{'url': 'https://t.co/gE60WESbnB', 'expanded_...</td>\n",
       "    </tr>\n",
       "    <tr>\n",
       "      <td>2</td>\n",
       "      <td>2020-07-31 15:03:04+00:00</td>\n",
       "      <td>1289215003954831360</td>\n",
       "      <td>Before figuring out how your own body reacts t...</td>\n",
       "      <td>8</td>\n",
       "      <td>3</td>\n",
       "      <td>NaN</td>\n",
       "      <td>[{'url': 'https://t.co/ixbJop7ZvT', 'expanded_...</td>\n",
       "    </tr>\n",
       "    <tr>\n",
       "      <td>3</td>\n",
       "      <td>2020-07-31 14:03:14+00:00</td>\n",
       "      <td>1289199948404101120</td>\n",
       "      <td>We caught up with functional medicine leaders,...</td>\n",
       "      <td>9</td>\n",
       "      <td>3</td>\n",
       "      <td>NaN</td>\n",
       "      <td>[{'url': 'https://t.co/atohj6rQy9', 'expanded_...</td>\n",
       "    </tr>\n",
       "    <tr>\n",
       "      <td>4</td>\n",
       "      <td>2020-07-31 13:02:53+00:00</td>\n",
       "      <td>1289184761349459969</td>\n",
       "      <td>To acknowledge the beginning of harvest season...</td>\n",
       "      <td>11</td>\n",
       "      <td>3</td>\n",
       "      <td>NaN</td>\n",
       "      <td>[{'url': 'https://t.co/jceakbNXM7', 'expanded_...</td>\n",
       "    </tr>\n",
       "    <tr>\n",
       "      <td>...</td>\n",
       "      <td>...</td>\n",
       "      <td>...</td>\n",
       "      <td>...</td>\n",
       "      <td>...</td>\n",
       "      <td>...</td>\n",
       "      <td>...</td>\n",
       "      <td>...</td>\n",
       "    </tr>\n",
       "    <tr>\n",
       "      <td>3210</td>\n",
       "      <td>2019-11-28 06:00:19+00:00</td>\n",
       "      <td>1199931001599860736</td>\n",
       "      <td>\"I fell in love with the texture at first use,...</td>\n",
       "      <td>8</td>\n",
       "      <td>2</td>\n",
       "      <td>NaN</td>\n",
       "      <td>[{'url': 'https://t.co/NhvEuTumKX', 'expanded_...</td>\n",
       "    </tr>\n",
       "    <tr>\n",
       "      <td>3211</td>\n",
       "      <td>2019-11-28 04:00:10+00:00</td>\n",
       "      <td>1199900768125562880</td>\n",
       "      <td>The common ways your shadow may be sabotaging ...</td>\n",
       "      <td>2</td>\n",
       "      <td>0</td>\n",
       "      <td>NaN</td>\n",
       "      <td>[{'url': 'https://t.co/z7FxuXG1nX', 'expanded_...</td>\n",
       "    </tr>\n",
       "    <tr>\n",
       "      <td>3212</td>\n",
       "      <td>2019-11-28 02:00:35+00:00</td>\n",
       "      <td>1199870672077500416</td>\n",
       "      <td>Our love affair with all things tech is taking...</td>\n",
       "      <td>13</td>\n",
       "      <td>11</td>\n",
       "      <td>NaN</td>\n",
       "      <td>[{'url': 'https://t.co/4nJUUbjAbm', 'expanded_...</td>\n",
       "    </tr>\n",
       "    <tr>\n",
       "      <td>3213</td>\n",
       "      <td>2019-11-28 00:00:54+00:00</td>\n",
       "      <td>1199840553552232450</td>\n",
       "      <td>Here are both preventive strategies this exper...</td>\n",
       "      <td>15</td>\n",
       "      <td>7</td>\n",
       "      <td>NaN</td>\n",
       "      <td>[{'url': 'https://t.co/c97nBD2MeC', 'expanded_...</td>\n",
       "    </tr>\n",
       "    <tr>\n",
       "      <td>3214</td>\n",
       "      <td>2019-11-27 22:01:01+00:00</td>\n",
       "      <td>1199810385127313408</td>\n",
       "      <td>Your favorite, kid-approved side dish just got...</td>\n",
       "      <td>4</td>\n",
       "      <td>1</td>\n",
       "      <td>NaN</td>\n",
       "      <td>[{'url': 'https://t.co/qgMk7pxFSV', 'expanded_...</td>\n",
       "    </tr>\n",
       "  </tbody>\n",
       "</table>\n",
       "<p>3215 rows × 7 columns</p>\n",
       "</div>"
      ],
      "text/plain": [
       "                     created_at             tweet_id  \\\n",
       "0     2020-07-31 19:01:44+00:00  1289275069370310656   \n",
       "1     2020-07-31 17:03:42+00:00  1289245366081093632   \n",
       "2     2020-07-31 15:03:04+00:00  1289215003954831360   \n",
       "3     2020-07-31 14:03:14+00:00  1289199948404101120   \n",
       "4     2020-07-31 13:02:53+00:00  1289184761349459969   \n",
       "...                         ...                  ...   \n",
       "3210  2019-11-28 06:00:19+00:00  1199931001599860736   \n",
       "3211  2019-11-28 04:00:10+00:00  1199900768125562880   \n",
       "3212  2019-11-28 02:00:35+00:00  1199870672077500416   \n",
       "3213  2019-11-28 00:00:54+00:00  1199840553552232450   \n",
       "3214  2019-11-27 22:01:01+00:00  1199810385127313408   \n",
       "\n",
       "                                             text_clean  favorite_count  \\\n",
       "0     We reached out to registered dietitians who ex...               2   \n",
       "1                 Happy . Here's how we're celebrating:               9   \n",
       "2     Before figuring out how your own body reacts t...               8   \n",
       "3     We caught up with functional medicine leaders,...               9   \n",
       "4     To acknowledge the beginning of harvest season...              11   \n",
       "...                                                 ...             ...   \n",
       "3210  \"I fell in love with the texture at first use,...               8   \n",
       "3211  The common ways your shadow may be sabotaging ...               2   \n",
       "3212  Our love affair with all things tech is taking...              13   \n",
       "3213  Here are both preventive strategies this exper...              15   \n",
       "3214  Your favorite, kid-approved side dish just got...               4   \n",
       "\n",
       "      retweet_count            hashtags  \\\n",
       "0                 1                 NaN   \n",
       "1                 4  NationalAvocadoDay   \n",
       "2                 3                 NaN   \n",
       "3                 3                 NaN   \n",
       "4                 3                 NaN   \n",
       "...             ...                 ...   \n",
       "3210              2                 NaN   \n",
       "3211              0                 NaN   \n",
       "3212             11                 NaN   \n",
       "3213              7                 NaN   \n",
       "3214              1                 NaN   \n",
       "\n",
       "                                                    url  \n",
       "0     [{'url': 'https://t.co/nyAEuWKwWN', 'expanded_...  \n",
       "1     [{'url': 'https://t.co/gE60WESbnB', 'expanded_...  \n",
       "2     [{'url': 'https://t.co/ixbJop7ZvT', 'expanded_...  \n",
       "3     [{'url': 'https://t.co/atohj6rQy9', 'expanded_...  \n",
       "4     [{'url': 'https://t.co/jceakbNXM7', 'expanded_...  \n",
       "...                                                 ...  \n",
       "3210  [{'url': 'https://t.co/NhvEuTumKX', 'expanded_...  \n",
       "3211  [{'url': 'https://t.co/z7FxuXG1nX', 'expanded_...  \n",
       "3212  [{'url': 'https://t.co/4nJUUbjAbm', 'expanded_...  \n",
       "3213  [{'url': 'https://t.co/c97nBD2MeC', 'expanded_...  \n",
       "3214  [{'url': 'https://t.co/qgMk7pxFSV', 'expanded_...  \n",
       "\n",
       "[3215 rows x 7 columns]"
      ]
     },
     "execution_count": 106,
     "metadata": {},
     "output_type": "execute_result"
    }
   ],
   "source": [
    "final_df = pd.read_csv('Final_Clean_Mindbodygreen.csv')\n",
    "final_df"
   ]
  },
  {
   "cell_type": "code",
   "execution_count": 107,
   "metadata": {},
   "outputs": [
    {
     "data": {
      "text/plain": [
       "mbgPodcast                            51\n",
       "mbgpartner                            16\n",
       "TraderJoes                             8\n",
       "NationalHempDay                        3\n",
       "NationalIceCreamDay                    2\n",
       "AmericanPistachios mbgpartner          2\n",
       "chomps cantstopwontstop mbgpartner     1\n",
       "mbgPodcasat                            1\n",
       "mbgpodcast                             1\n",
       "BettyWhite                             1\n",
       "InternationalWomensDay                 1\n",
       "ad                                     1\n",
       "PlasticFreeJuly                        1\n",
       "Clean15                                1\n",
       "EllieKemper                            1\n",
       "EarthDay                               1\n",
       "ObjectiveWellness                      1\n",
       "BlackBotanistsWeek                     1\n",
       "NationalDisabilityDay                  1\n",
       "NationalAvocadoDay                     1\n",
       "covergirls                             1\n",
       "ReneeZellweger                         1\n",
       "GalentinesDay                          1\n",
       "LUNYA mbgpartner                       1\n",
       "MothersDay                             1\n",
       "NationalBagelDay                       1\n",
       "FridgeGoals                            1\n",
       "CincodeMayo                            1\n",
       "QuarantineCrew                         1\n",
       "aerieReal                              1\n",
       "Name: hashtags, dtype: int64"
      ]
     },
     "execution_count": 107,
     "metadata": {},
     "output_type": "execute_result"
    }
   ],
   "source": [
    "final_df['hashtags'].value_counts()"
   ]
  },
  {
   "cell_type": "markdown",
   "metadata": {},
   "source": [
    "# II. Profile"
   ]
  },
  {
   "cell_type": "code",
   "execution_count": 66,
   "metadata": {},
   "outputs": [
    {
     "name": "stdout",
     "output_type": "stream",
     "text": [
      "<class 'pandas.core.frame.DataFrame'>\n",
      "Int64Index: 3213 entries, 0 to 3412\n",
      "Data columns (total 7 columns):\n",
      "created_at        3213 non-null object\n",
      "tweet_id          3213 non-null int64\n",
      "text_clean        3213 non-null object\n",
      "favorite_count    3213 non-null int64\n",
      "retweet_count     3213 non-null int64\n",
      "hashtags          3213 non-null object\n",
      "url               3213 non-null object\n",
      "dtypes: int64(3), object(4)\n",
      "memory usage: 200.8+ KB\n"
     ]
    }
   ],
   "source": [
    "#asses again\n",
    "new_df.info()"
   ]
  },
  {
   "cell_type": "code",
   "execution_count": 36,
   "metadata": {},
   "outputs": [],
   "source": [
    "#date_since = \"2020-05-29\"\n",
    "mindbodygreen=api.get_user(screen_name='mindbodygreen')"
   ]
  },
  {
   "cell_type": "code",
   "execution_count": 37,
   "metadata": {},
   "outputs": [],
   "source": [
    "#getting the latest total followers count, favorites count and posts count\n",
    "follower_count = mindbodygreen.followers_count\n",
    "favourites_count = mindbodygreen.favourites_count\n",
    "posts_count = mindbodygreen.statuses_count"
   ]
  },
  {
   "cell_type": "code",
   "execution_count": 38,
   "metadata": {},
   "outputs": [
    {
     "name": "stdout",
     "output_type": "stream",
     "text": [
      "305168\n",
      "17895\n",
      "84180\n"
     ]
    }
   ],
   "source": [
    "#latest count output\n",
    "print(follower_count)\n",
    "print(favourites_count)\n",
    "print(posts_count)"
   ]
  },
  {
   "cell_type": "code",
   "execution_count": null,
   "metadata": {},
   "outputs": [],
   "source": []
  }
 ],
 "metadata": {
  "kernelspec": {
   "display_name": "Python 3",
   "language": "python",
   "name": "python3"
  },
  "language_info": {
   "codemirror_mode": {
    "name": "ipython",
    "version": 3
   },
   "file_extension": ".py",
   "mimetype": "text/x-python",
   "name": "python",
   "nbconvert_exporter": "python",
   "pygments_lexer": "ipython3",
   "version": "3.7.4"
  }
 },
 "nbformat": 4,
 "nbformat_minor": 2
}
