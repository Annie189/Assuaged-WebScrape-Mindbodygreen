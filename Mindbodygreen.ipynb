{
 "cells": [
  {
   "cell_type": "code",
   "execution_count": 1,
   "metadata": {},
   "outputs": [
    {
     "name": "stdout",
     "output_type": "stream",
     "text": [
      "Requirement already satisfied: tweepy in c:\\users\\phuonganh\\anaconda3\\lib\\site-packages (3.8.0)\n",
      "Requirement already satisfied: requests>=2.11.1 in c:\\users\\phuonganh\\anaconda3\\lib\\site-packages (from tweepy) (2.22.0)\n",
      "Requirement already satisfied: requests-oauthlib>=0.7.0 in c:\\users\\phuonganh\\anaconda3\\lib\\site-packages (from tweepy) (1.3.0)\n",
      "Requirement already satisfied: PySocks>=1.5.7 in c:\\users\\phuonganh\\anaconda3\\lib\\site-packages (from tweepy) (1.7.1)\n",
      "Requirement already satisfied: six>=1.10.0 in c:\\users\\phuonganh\\anaconda3\\lib\\site-packages (from tweepy) (1.12.0)\n",
      "Requirement already satisfied: certifi>=2017.4.17 in c:\\users\\phuonganh\\anaconda3\\lib\\site-packages (from requests>=2.11.1->tweepy) (2019.9.11)\n",
      "Requirement already satisfied: chardet<3.1.0,>=3.0.2 in c:\\users\\phuonganh\\anaconda3\\lib\\site-packages (from requests>=2.11.1->tweepy) (3.0.4)\n",
      "Requirement already satisfied: urllib3!=1.25.0,!=1.25.1,<1.26,>=1.21.1 in c:\\users\\phuonganh\\anaconda3\\lib\\site-packages (from requests>=2.11.1->tweepy) (1.24.2)\n",
      "Requirement already satisfied: idna<2.9,>=2.5 in c:\\users\\phuonganh\\anaconda3\\lib\\site-packages (from requests>=2.11.1->tweepy) (2.8)\n",
      "Requirement already satisfied: oauthlib>=3.0.0 in c:\\users\\phuonganh\\anaconda3\\lib\\site-packages (from requests-oauthlib>=0.7.0->tweepy) (3.1.0)\n",
      "Note: you may need to restart the kernel to use updated packages.\n"
     ]
    }
   ],
   "source": [
    "pip install tweepy"
   ]
  },
  {
   "cell_type": "code",
   "execution_count": 2,
   "metadata": {},
   "outputs": [],
   "source": [
    "import numpy as np\n",
    "import os\n",
    "import pandas as pd\n",
    "import matplotlib.pyplot as plt\n",
    "import seaborn as sns\n",
    "import requests\n",
    "import tweepy\n",
    "import json\n",
    "from timeit import default_timer as timer\n",
    "from tweepy import OAuthHandler"
   ]
  },
  {
   "cell_type": "code",
   "execution_count": 17,
   "metadata": {},
   "outputs": [],
   "source": [
    "## copy paste these\n",
    "consumer_key='5KghTyzJOhxIbxqLgFveFnOCE'\n",
    "consumer_secret='kV4YPaDLaGaI1x1tA7dBgehoDsV6uTBgSEI5zj8baPND3QhiBW'\n",
    "access_token='1260634140006854663-nf38xTqYwssLE1GOf3Ge3VT9G0dpDP'\n",
    "access_token_secret='cuFa08BCHu18dl47ttUQf6V1MdLsE8ZLkgMXwAzCjXwSG'"
   ]
  },
  {
   "cell_type": "code",
   "execution_count": 18,
   "metadata": {},
   "outputs": [],
   "source": [
    "auth = tweepy.OAuthHandler(consumer_key, consumer_secret)\n",
    "auth.set_access_token(access_token, access_token_secret)\n",
    "api = tweepy.API(auth,wait_on_rate_limit=True,wait_on_rate_limit_notify=True)"
   ]
  },
  {
   "cell_type": "markdown",
   "metadata": {},
   "source": [
    "# I. Content"
   ]
  },
  {
   "cell_type": "markdown",
   "metadata": {},
   "source": [
    "# 1. Gathering Data"
   ]
  },
  {
   "cell_type": "code",
   "execution_count": 73,
   "metadata": {},
   "outputs": [],
   "source": [
    "screen_name='mindbodygreen' #user name\n",
    "count=200    #max=200\n",
    "page=0       #page 0 represent most recent tweets\n",
    "tweets=api.user_timeline(screen_name=screen_name,count=count,page=0)"
   ]
  },
  {
   "cell_type": "code",
   "execution_count": 91,
   "metadata": {},
   "outputs": [
    {
     "data": {
      "text/plain": [
       "5640"
      ]
     },
     "execution_count": 91,
     "metadata": {},
     "output_type": "execute_result"
    }
   ],
   "source": [
    "# scraping pages from 0 to 19\n",
    "pages = np.arange(20)\n",
    "\n",
    "for page in pages: \n",
    "    tweets = api.user_timeline(screen_name=screen_name, count=count, page=page)\n",
    "    for tweet in tweets: \n",
    "        txts.append(json.loads(json.dumps(tweet._json)))\n",
    "\n",
    "len(txts)"
   ]
  },
  {
   "cell_type": "code",
   "execution_count": 92,
   "metadata": {},
   "outputs": [
    {
     "data": {
      "text/plain": [
       "{'created_at': 'Mon Nov 25 08:00:44 +0000 2019',\n",
       " 'id': 1198874144957509632,\n",
       " 'id_str': '1198874144957509632',\n",
       " 'text': 'Are you taking \"mental inventory?\" The creator of the @bulletjournal, @rydercarroll, is leading us through some eas… https://t.co/Z9a2sOnP2L',\n",
       " 'truncated': True,\n",
       " 'entities': {'hashtags': [],\n",
       "  'symbols': [],\n",
       "  'user_mentions': [{'screen_name': 'bulletjournal',\n",
       "    'name': 'olafame adesimbo',\n",
       "    'id': 49660003,\n",
       "    'id_str': '49660003',\n",
       "    'indices': [54, 68]},\n",
       "   {'screen_name': 'rydercarroll',\n",
       "    'name': 'Ryder Carroll',\n",
       "    'id': 18233184,\n",
       "    'id_str': '18233184',\n",
       "    'indices': [70, 83]}],\n",
       "  'urls': [{'url': 'https://t.co/Z9a2sOnP2L',\n",
       "    'expanded_url': 'https://twitter.com/i/web/status/1198874144957509632',\n",
       "    'display_url': 'twitter.com/i/web/status/1…',\n",
       "    'indices': [117, 140]}]},\n",
       " 'source': '<a href=\"https://www.hootsuite.com\" rel=\"nofollow\">Hootsuite Inc.</a>',\n",
       " 'in_reply_to_status_id': None,\n",
       " 'in_reply_to_status_id_str': None,\n",
       " 'in_reply_to_user_id': None,\n",
       " 'in_reply_to_user_id_str': None,\n",
       " 'in_reply_to_screen_name': None,\n",
       " 'user': {'id': 17781673,\n",
       "  'id_str': '17781673',\n",
       "  'name': 'mindbodygreen',\n",
       "  'screen_name': 'mindbodygreen',\n",
       "  'location': 'Brooklyn, NY',\n",
       "  'description': 'connecting soul & science. 💫',\n",
       "  'url': 'http://t.co/xQ41BHxbiB',\n",
       "  'entities': {'url': {'urls': [{'url': 'http://t.co/xQ41BHxbiB',\n",
       "      'expanded_url': 'http://www.mindbodygreen.com',\n",
       "      'display_url': 'mindbodygreen.com',\n",
       "      'indices': [0, 22]}]},\n",
       "   'description': {'urls': []}},\n",
       "  'protected': False,\n",
       "  'followers_count': 305167,\n",
       "  'friends_count': 595,\n",
       "  'listed_count': 4823,\n",
       "  'created_at': 'Mon Dec 01 16:00:58 +0000 2008',\n",
       "  'favourites_count': 17895,\n",
       "  'utc_offset': None,\n",
       "  'time_zone': None,\n",
       "  'geo_enabled': True,\n",
       "  'verified': True,\n",
       "  'statuses_count': 84169,\n",
       "  'lang': None,\n",
       "  'contributors_enabled': False,\n",
       "  'is_translator': False,\n",
       "  'is_translation_enabled': False,\n",
       "  'profile_background_color': '0A0A0A',\n",
       "  'profile_background_image_url': 'http://abs.twimg.com/images/themes/theme1/bg.png',\n",
       "  'profile_background_image_url_https': 'https://abs.twimg.com/images/themes/theme1/bg.png',\n",
       "  'profile_background_tile': True,\n",
       "  'profile_image_url': 'http://pbs.twimg.com/profile_images/924958204043264000/5676I8Tq_normal.jpg',\n",
       "  'profile_image_url_https': 'https://pbs.twimg.com/profile_images/924958204043264000/5676I8Tq_normal.jpg',\n",
       "  'profile_banner_url': 'https://pbs.twimg.com/profile_banners/17781673/1573249979',\n",
       "  'profile_link_color': '91D2FA',\n",
       "  'profile_sidebar_border_color': 'FFFFFF',\n",
       "  'profile_sidebar_fill_color': '6E94CC',\n",
       "  'profile_text_color': '000000',\n",
       "  'profile_use_background_image': True,\n",
       "  'has_extended_profile': False,\n",
       "  'default_profile': False,\n",
       "  'default_profile_image': False,\n",
       "  'following': True,\n",
       "  'follow_request_sent': False,\n",
       "  'notifications': False,\n",
       "  'translator_type': 'none'},\n",
       " 'geo': None,\n",
       " 'coordinates': None,\n",
       " 'place': None,\n",
       " 'contributors': None,\n",
       " 'is_quote_status': False,\n",
       " 'retweet_count': 5,\n",
       " 'favorite_count': 19,\n",
       " 'favorited': False,\n",
       " 'retweeted': False,\n",
       " 'possibly_sensitive': False,\n",
       " 'lang': 'en'}"
      ]
     },
     "execution_count": 92,
     "metadata": {},
     "output_type": "execute_result"
    }
   ],
   "source": [
    "txts[5639]"
   ]
  },
  {
   "cell_type": "code",
   "execution_count": 76,
   "metadata": {},
   "outputs": [],
   "source": [
    "#get values lists\n",
    "time = []\n",
    "twtid = []\n",
    "text = []\n",
    "favorite_count = []\n",
    "retweet_count=[]\n",
    "hashtags=[]\n",
    "url=[]\n",
    "\n",
    "favorite_count=[]\n",
    "for line in txts:\n",
    "    time.append(line['created_at'])\n",
    "    twtid.append(line['id'])\n",
    "    text.append(line['text'])\n",
    "    favorite_count.append(line['favorite_count'])\n",
    "    retweet_count.append(line['retweet_count'])\n",
    "    hashtags.append(line['entities']['hashtags'])\n",
    "    url.append(line['entities']['urls'])"
   ]
  },
  {
   "cell_type": "markdown",
   "metadata": {},
   "source": [
    "# 2. Assessing Data"
   ]
  },
  {
   "cell_type": "code",
   "execution_count": 93,
   "metadata": {},
   "outputs": [
    {
     "data": {
      "text/html": [
       "<div>\n",
       "<style scoped>\n",
       "    .dataframe tbody tr th:only-of-type {\n",
       "        vertical-align: middle;\n",
       "    }\n",
       "\n",
       "    .dataframe tbody tr th {\n",
       "        vertical-align: top;\n",
       "    }\n",
       "\n",
       "    .dataframe thead th {\n",
       "        text-align: right;\n",
       "    }\n",
       "</style>\n",
       "<table border=\"1\" class=\"dataframe\">\n",
       "  <thead>\n",
       "    <tr style=\"text-align: right;\">\n",
       "      <th></th>\n",
       "      <th>created_at</th>\n",
       "      <th>tweet_id</th>\n",
       "      <th>text</th>\n",
       "      <th>favorite_count</th>\n",
       "      <th>retweet_count</th>\n",
       "      <th>hashtags</th>\n",
       "      <th>url</th>\n",
       "    </tr>\n",
       "  </thead>\n",
       "  <tbody>\n",
       "    <tr>\n",
       "      <td>0</td>\n",
       "      <td>Sun Jul 26 23:00:37 +0000 2020</td>\n",
       "      <td>1287523247320432642</td>\n",
       "      <td>It may appear taboo, but having sex during you...</td>\n",
       "      <td>0</td>\n",
       "      <td>0</td>\n",
       "      <td>[]</td>\n",
       "      <td>[{'url': 'https://t.co/ZFikjGeoni', 'expanded_...</td>\n",
       "    </tr>\n",
       "    <tr>\n",
       "      <td>1</td>\n",
       "      <td>Sun Jul 26 17:01:43 +0000 2020</td>\n",
       "      <td>1287432927391907844</td>\n",
       "      <td>Founder of nonprofit @OutdoorAfro, @RueMapp, o...</td>\n",
       "      <td>22</td>\n",
       "      <td>6</td>\n",
       "      <td>[]</td>\n",
       "      <td>[{'url': 'https://t.co/5lSkhZ1dir', 'expanded_...</td>\n",
       "    </tr>\n",
       "    <tr>\n",
       "      <td>2</td>\n",
       "      <td>Sun Jul 26 15:01:50 +0000 2020</td>\n",
       "      <td>1287402755699744768</td>\n",
       "      <td>Despite the herbs' similar appearances, do the...</td>\n",
       "      <td>10</td>\n",
       "      <td>3</td>\n",
       "      <td>[]</td>\n",
       "      <td>[{'url': 'https://t.co/YYHkhzCQuJ', 'expanded_...</td>\n",
       "    </tr>\n",
       "    <tr>\n",
       "      <td>3</td>\n",
       "      <td>Sun Jul 26 13:01:44 +0000 2020</td>\n",
       "      <td>1287372533373837316</td>\n",
       "      <td>mbg’s Sustainability Editor shares some of her...</td>\n",
       "      <td>6</td>\n",
       "      <td>1</td>\n",
       "      <td>[]</td>\n",
       "      <td>[{'url': 'https://t.co/6tf7u2YCyG', 'expanded_...</td>\n",
       "    </tr>\n",
       "    <tr>\n",
       "      <td>4</td>\n",
       "      <td>Sun Jul 26 09:00:53 +0000 2020</td>\n",
       "      <td>1287311921809629184</td>\n",
       "      <td>Get ready for arm circles, tricep dips, and ye...</td>\n",
       "      <td>26</td>\n",
       "      <td>8</td>\n",
       "      <td>[]</td>\n",
       "      <td>[{'url': 'https://t.co/yFxsZ1Knhb', 'expanded_...</td>\n",
       "    </tr>\n",
       "    <tr>\n",
       "      <td>...</td>\n",
       "      <td>...</td>\n",
       "      <td>...</td>\n",
       "      <td>...</td>\n",
       "      <td>...</td>\n",
       "      <td>...</td>\n",
       "      <td>...</td>\n",
       "      <td>...</td>\n",
       "    </tr>\n",
       "    <tr>\n",
       "      <td>2195</td>\n",
       "      <td>Tue Mar 10 13:01:29 +0000 2020</td>\n",
       "      <td>1237362943408431105</td>\n",
       "      <td>This Paleo Pizza Crust from @againstallgrain i...</td>\n",
       "      <td>3</td>\n",
       "      <td>1</td>\n",
       "      <td>[]</td>\n",
       "      <td>[{'url': 'https://t.co/sVgT35tSyZ', 'expanded_...</td>\n",
       "    </tr>\n",
       "    <tr>\n",
       "      <td>2196</td>\n",
       "      <td>Tue Mar 10 11:01:21 +0000 2020</td>\n",
       "      <td>1237332708956798977</td>\n",
       "      <td>Roasted pistachios do, in fact, contain signif...</td>\n",
       "      <td>18</td>\n",
       "      <td>6</td>\n",
       "      <td>[]</td>\n",
       "      <td>[{'url': 'https://t.co/Yt2LGoR0Tb', 'expanded_...</td>\n",
       "    </tr>\n",
       "    <tr>\n",
       "      <td>2197</td>\n",
       "      <td>Tue Mar 10 09:00:46 +0000 2020</td>\n",
       "      <td>1237302364857667587</td>\n",
       "      <td>Get yourself a spice blend who can do both: bo...</td>\n",
       "      <td>17</td>\n",
       "      <td>8</td>\n",
       "      <td>[]</td>\n",
       "      <td>[{'url': 'https://t.co/fRSFCmeevi', 'expanded_...</td>\n",
       "    </tr>\n",
       "    <tr>\n",
       "      <td>2198</td>\n",
       "      <td>Tue Mar 10 05:00:07 +0000 2020</td>\n",
       "      <td>1237241802727608320</td>\n",
       "      <td>Tap here for a step-by-step guide to redefinin...</td>\n",
       "      <td>4</td>\n",
       "      <td>0</td>\n",
       "      <td>[]</td>\n",
       "      <td>[{'url': 'https://t.co/9u5tWWbfrh', 'expanded_...</td>\n",
       "    </tr>\n",
       "    <tr>\n",
       "      <td>2199</td>\n",
       "      <td>Tue Mar 10 03:00:06 +0000 2020</td>\n",
       "      <td>1237211601402580992</td>\n",
       "      <td>Tauruses, Virgos + Capricorns have a tendency ...</td>\n",
       "      <td>20</td>\n",
       "      <td>5</td>\n",
       "      <td>[]</td>\n",
       "      <td>[{'url': 'https://t.co/TFSAObWb4V', 'expanded_...</td>\n",
       "    </tr>\n",
       "  </tbody>\n",
       "</table>\n",
       "<p>2200 rows × 7 columns</p>\n",
       "</div>"
      ],
      "text/plain": [
       "                          created_at             tweet_id  \\\n",
       "0     Sun Jul 26 23:00:37 +0000 2020  1287523247320432642   \n",
       "1     Sun Jul 26 17:01:43 +0000 2020  1287432927391907844   \n",
       "2     Sun Jul 26 15:01:50 +0000 2020  1287402755699744768   \n",
       "3     Sun Jul 26 13:01:44 +0000 2020  1287372533373837316   \n",
       "4     Sun Jul 26 09:00:53 +0000 2020  1287311921809629184   \n",
       "...                              ...                  ...   \n",
       "2195  Tue Mar 10 13:01:29 +0000 2020  1237362943408431105   \n",
       "2196  Tue Mar 10 11:01:21 +0000 2020  1237332708956798977   \n",
       "2197  Tue Mar 10 09:00:46 +0000 2020  1237302364857667587   \n",
       "2198  Tue Mar 10 05:00:07 +0000 2020  1237241802727608320   \n",
       "2199  Tue Mar 10 03:00:06 +0000 2020  1237211601402580992   \n",
       "\n",
       "                                                   text  favorite_count  \\\n",
       "0     It may appear taboo, but having sex during you...               0   \n",
       "1     Founder of nonprofit @OutdoorAfro, @RueMapp, o...              22   \n",
       "2     Despite the herbs' similar appearances, do the...              10   \n",
       "3     mbg’s Sustainability Editor shares some of her...               6   \n",
       "4     Get ready for arm circles, tricep dips, and ye...              26   \n",
       "...                                                 ...             ...   \n",
       "2195  This Paleo Pizza Crust from @againstallgrain i...               3   \n",
       "2196  Roasted pistachios do, in fact, contain signif...              18   \n",
       "2197  Get yourself a spice blend who can do both: bo...              17   \n",
       "2198  Tap here for a step-by-step guide to redefinin...               4   \n",
       "2199  Tauruses, Virgos + Capricorns have a tendency ...              20   \n",
       "\n",
       "      retweet_count hashtags  \\\n",
       "0                 0       []   \n",
       "1                 6       []   \n",
       "2                 3       []   \n",
       "3                 1       []   \n",
       "4                 8       []   \n",
       "...             ...      ...   \n",
       "2195              1       []   \n",
       "2196              6       []   \n",
       "2197              8       []   \n",
       "2198              0       []   \n",
       "2199              5       []   \n",
       "\n",
       "                                                    url  \n",
       "0     [{'url': 'https://t.co/ZFikjGeoni', 'expanded_...  \n",
       "1     [{'url': 'https://t.co/5lSkhZ1dir', 'expanded_...  \n",
       "2     [{'url': 'https://t.co/YYHkhzCQuJ', 'expanded_...  \n",
       "3     [{'url': 'https://t.co/6tf7u2YCyG', 'expanded_...  \n",
       "4     [{'url': 'https://t.co/yFxsZ1Knhb', 'expanded_...  \n",
       "...                                                 ...  \n",
       "2195  [{'url': 'https://t.co/sVgT35tSyZ', 'expanded_...  \n",
       "2196  [{'url': 'https://t.co/Yt2LGoR0Tb', 'expanded_...  \n",
       "2197  [{'url': 'https://t.co/fRSFCmeevi', 'expanded_...  \n",
       "2198  [{'url': 'https://t.co/9u5tWWbfrh', 'expanded_...  \n",
       "2199  [{'url': 'https://t.co/TFSAObWb4V', 'expanded_...  \n",
       "\n",
       "[2200 rows x 7 columns]"
      ]
     },
     "execution_count": 93,
     "metadata": {},
     "output_type": "execute_result"
    }
   ],
   "source": [
    "# create data frame\n",
    "df = pd.DataFrame(list(zip(time, twtid, text, favorite_count, retweet_count, hashtags, url)),\n",
    "                             columns=['created_at', 'tweet_id','text','favorite_count','retweet_count',\n",
    "                                     'hashtags','url'])\n",
    "df"
   ]
  },
  {
   "cell_type": "code",
   "execution_count": 80,
   "metadata": {},
   "outputs": [
    {
     "data": {
      "text/plain": [
       "[]                                                                                                                                                                                   4\n",
       "[{'url': 'https://t.co/K61DQpeXql', 'expanded_url': 'http://ow.ly/ohOm30qZKDt', 'display_url': 'ow.ly/ohOm30qZKDt', 'indices': [90, 113]}]                                           3\n",
       "[{'url': 'https://t.co/tl4rMEYwZG', 'expanded_url': 'https://twitter.com/i/web/status/1285213539871920131', 'display_url': 'twitter.com/i/web/status/1…', 'indices': [117, 140]}]    3\n",
       "[{'url': 'https://t.co/QPZQUmbSTN', 'expanded_url': 'https://twitter.com/i/web/status/1286164221072482305', 'display_url': 'twitter.com/i/web/status/1…', 'indices': [116, 139]}]    3\n",
       "[{'url': 'https://t.co/9e2eJYn2Q2', 'expanded_url': 'http://ow.ly/ZyXo30qY6kD', 'display_url': 'ow.ly/ZyXo30qY6kD', 'indices': [85, 108]}]                                           3\n",
       "                                                                                                                                                                                    ..\n",
       "[{'url': 'https://t.co/svbkYpWo4M', 'expanded_url': 'http://ow.ly/bRmg30qMoS4', 'display_url': 'ow.ly/bRmg30qMoS4', 'indices': [60, 83]}]                                            1\n",
       "[{'url': 'https://t.co/ljBwwHCbN4', 'expanded_url': 'https://twitter.com/i/web/status/1254485562607755266', 'display_url': 'twitter.com/i/web/status/1…', 'indices': [117, 140]}]    1\n",
       "[{'url': 'https://t.co/DzzCWfNhUo', 'expanded_url': 'http://ow.ly/4FER30qBnfA', 'display_url': 'ow.ly/4FER30qBnfA', 'indices': [50, 73]}]                                            1\n",
       "[{'url': 'https://t.co/yO9PUiVNjd', 'expanded_url': 'http://ow.ly/OQDS30qzdDL', 'display_url': 'ow.ly/OQDS30qzdDL', 'indices': [38, 61]}]                                            1\n",
       "[{'url': 'https://t.co/ZvVRFKHfo7', 'expanded_url': 'https://twitter.com/i/web/status/1238208398749024265', 'display_url': 'twitter.com/i/web/status/1…', 'indices': [117, 140]}]    1\n",
       "Name: url, Length: 1797, dtype: int64"
      ]
     },
     "execution_count": 80,
     "metadata": {},
     "output_type": "execute_result"
    }
   ],
   "source": [
    "df['url'].value_counts()"
   ]
  },
  {
   "cell_type": "code",
   "execution_count": 81,
   "metadata": {},
   "outputs": [
    {
     "data": {
      "text/plain": [
       "We had a nutritionist settle the washing vs. wiping debate once and for all. 🍄 https://t.co/Q64DntYT9I                                          3\n",
       "Researchers at @OhioState uncovered an important link between the stress hormone and blood sugar levels. 📈 https://t.co/asRVO0UR7S              3\n",
       "In short: Yes. 💩 Tap here to find out what the experts have to say about the causes of stress-induced gut issues, h… https://t.co/5gf2N3rkas    3\n",
       "We only have two words: YES, HUNNI. 🍯 https://t.co/nUBjQy4dqA                                                                                   3\n",
       "From applesauce to ACV, check out these surprising + innovative ways to substitute eggs in the kitchen. 🥚 https://t.co/TAK7BWt8hX               3\n",
       "                                                                                                                                               ..\n",
       "In fact, the numbers indicate the largest yearly declines in death ever record for melanoma. 📉 Here's why that's ha… https://t.co/FztV0V0iTc    1\n",
       "\"Learning to be comfortable with the unknown is important because I don't know that we'll ever have all of the answ… https://t.co/xZKejx6PHo    1\n",
       "Let's take a moment to focus on the more positive news we've seen come out of this crisis. 📰 https://t.co/bkDHL0gmuH                            1\n",
       "\"The combination of economic and social stresses brought on by the pandemic, as well as restrictions on movement, h… https://t.co/1ihRCvyXfG    1\n",
       "Merriam-Webster defines doomscrolling as \"the tendency to continue to scroll through bad news, even though that new… https://t.co/DIne1ulBw4    1\n",
       "Name: text, Length: 1800, dtype: int64"
      ]
     },
     "execution_count": 81,
     "metadata": {},
     "output_type": "execute_result"
    }
   ],
   "source": [
    "df['text'].value_counts()"
   ]
  },
  {
   "cell_type": "code",
   "execution_count": 82,
   "metadata": {},
   "outputs": [
    {
     "data": {
      "text/plain": [
       "[]                                                                                                      2140\n",
       "[{'text': 'mbgPodcast', 'indices': [8, 19]}]                                                              20\n",
       "[{'text': 'mbgPodcast', 'indices': [11, 22]}]                                                              6\n",
       "[{'text': 'NationalIceCreamDay', 'indices': [13, 33]}]                                                     3\n",
       "[{'text': 'mbgPodcast', 'indices': [59, 70]}]                                                              3\n",
       "[{'text': 'NationalIceCreamDay', 'indices': [5, 25]}]                                                      3\n",
       "[{'text': 'BlackBotanistsWeek', 'indices': [0, 19]}]                                                       2\n",
       "[{'text': 'mbgPodcast', 'indices': [16, 27]}]                                                              1\n",
       "[{'text': 'ad', 'indices': [129, 132]}]                                                                    1\n",
       "[{'text': 'mbgpartner', 'indices': [120, 131]}]                                                            1\n",
       "[{'text': 'mbgPodcast', 'indices': [70, 81]}]                                                              1\n",
       "[{'text': 'Clean15', 'indices': [11, 19]}]                                                                 1\n",
       "[{'text': 'PlasticFreeJuly', 'indices': [13, 29]}]                                                         1\n",
       "[{'text': 'mbgPodcast', 'indices': [75, 86]}]                                                              1\n",
       "[{'text': 'mbgpartner', 'indices': [90, 101]}]                                                             1\n",
       "[{'text': 'mbgPodcast', 'indices': [13, 24]}]                                                              1\n",
       "[{'text': 'AmericanPistachios', 'indices': [63, 82]}, {'text': 'mbgpartner', 'indices': [107, 118]}]       1\n",
       "[{'text': 'mbgPodcast', 'indices': [61, 72]}]                                                              1\n",
       "[{'text': 'AmericanPistachios', 'indices': [65, 84]}, {'text': 'mbgpartner', 'indices': [109, 120]}]       1\n",
       "[{'text': 'mbgpartner', 'indices': [83, 94]}]                                                              1\n",
       "[{'text': 'mbgpartner', 'indices': [116, 127]}]                                                            1\n",
       "[{'text': 'mbgPodcast', 'indices': [73, 84]}]                                                              1\n",
       "[{'text': 'mbgpartner', 'indices': [88, 99]}]                                                              1\n",
       "[{'text': 'MothersDay', 'indices': [17, 28]}]                                                              1\n",
       "[{'text': 'CincodeMayo', 'indices': [12, 24]}]                                                             1\n",
       "[{'text': 'FridgeGoals', 'indices': [33, 45]}]                                                             1\n",
       "[{'text': 'QuarantineCrew', 'indices': [17, 32]}]                                                          1\n",
       "[{'text': 'EarthDay', 'indices': [12, 21]}]                                                                1\n",
       "[{'text': 'mbgPodcasat', 'indices': [11, 23]}]                                                             1\n",
       "[{'text': 'mbgpartner', 'indices': [104, 115]}]                                                            1\n",
       "Name: hashtags, dtype: int64"
      ]
     },
     "execution_count": 82,
     "metadata": {},
     "output_type": "execute_result"
    }
   ],
   "source": [
    "df['hashtags'].value_counts()"
   ]
  },
  {
   "cell_type": "code",
   "execution_count": 83,
   "metadata": {},
   "outputs": [
    {
     "data": {
      "text/html": [
       "<div>\n",
       "<style scoped>\n",
       "    .dataframe tbody tr th:only-of-type {\n",
       "        vertical-align: middle;\n",
       "    }\n",
       "\n",
       "    .dataframe tbody tr th {\n",
       "        vertical-align: top;\n",
       "    }\n",
       "\n",
       "    .dataframe thead th {\n",
       "        text-align: right;\n",
       "    }\n",
       "</style>\n",
       "<table border=\"1\" class=\"dataframe\">\n",
       "  <thead>\n",
       "    <tr style=\"text-align: right;\">\n",
       "      <th></th>\n",
       "      <th>tweet_id</th>\n",
       "      <th>favorite_count</th>\n",
       "      <th>retweet_count</th>\n",
       "    </tr>\n",
       "  </thead>\n",
       "  <tbody>\n",
       "    <tr>\n",
       "      <td>count</td>\n",
       "      <td>2.200000e+03</td>\n",
       "      <td>2200.000000</td>\n",
       "      <td>2200.000000</td>\n",
       "    </tr>\n",
       "    <tr>\n",
       "      <td>mean</td>\n",
       "      <td>1.266708e+18</td>\n",
       "      <td>11.196364</td>\n",
       "      <td>3.856818</td>\n",
       "    </tr>\n",
       "    <tr>\n",
       "      <td>std</td>\n",
       "      <td>1.608036e+16</td>\n",
       "      <td>8.304712</td>\n",
       "      <td>3.422626</td>\n",
       "    </tr>\n",
       "    <tr>\n",
       "      <td>min</td>\n",
       "      <td>1.237212e+18</td>\n",
       "      <td>0.000000</td>\n",
       "      <td>0.000000</td>\n",
       "    </tr>\n",
       "    <tr>\n",
       "      <td>25%</td>\n",
       "      <td>1.252787e+18</td>\n",
       "      <td>5.000000</td>\n",
       "      <td>1.000000</td>\n",
       "    </tr>\n",
       "    <tr>\n",
       "      <td>50%</td>\n",
       "      <td>1.267479e+18</td>\n",
       "      <td>9.000000</td>\n",
       "      <td>3.000000</td>\n",
       "    </tr>\n",
       "    <tr>\n",
       "      <td>75%</td>\n",
       "      <td>1.282910e+18</td>\n",
       "      <td>15.000000</td>\n",
       "      <td>5.000000</td>\n",
       "    </tr>\n",
       "    <tr>\n",
       "      <td>max</td>\n",
       "      <td>1.288883e+18</td>\n",
       "      <td>73.000000</td>\n",
       "      <td>28.000000</td>\n",
       "    </tr>\n",
       "  </tbody>\n",
       "</table>\n",
       "</div>"
      ],
      "text/plain": [
       "           tweet_id  favorite_count  retweet_count\n",
       "count  2.200000e+03     2200.000000    2200.000000\n",
       "mean   1.266708e+18       11.196364       3.856818\n",
       "std    1.608036e+16        8.304712       3.422626\n",
       "min    1.237212e+18        0.000000       0.000000\n",
       "25%    1.252787e+18        5.000000       1.000000\n",
       "50%    1.267479e+18        9.000000       3.000000\n",
       "75%    1.282910e+18       15.000000       5.000000\n",
       "max    1.288883e+18       73.000000      28.000000"
      ]
     },
     "execution_count": 83,
     "metadata": {},
     "output_type": "execute_result"
    }
   ],
   "source": [
    "df.describe()"
   ]
  },
  {
   "cell_type": "code",
   "execution_count": 84,
   "metadata": {},
   "outputs": [
    {
     "name": "stdout",
     "output_type": "stream",
     "text": [
      "<class 'pandas.core.frame.DataFrame'>\n",
      "RangeIndex: 2200 entries, 0 to 2199\n",
      "Data columns (total 7 columns):\n",
      "created_at        2200 non-null object\n",
      "tweet_id          2200 non-null int64\n",
      "text              2200 non-null object\n",
      "favorite_count    2200 non-null int64\n",
      "retweet_count     2200 non-null int64\n",
      "hashtags          2200 non-null object\n",
      "url               2200 non-null object\n",
      "dtypes: int64(3), object(4)\n",
      "memory usage: 120.4+ KB\n"
     ]
    }
   ],
   "source": [
    "df.info()"
   ]
  },
  {
   "cell_type": "markdown",
   "metadata": {},
   "source": [
    "# 3. Save Data"
   ]
  },
  {
   "cell_type": "code",
   "execution_count": 85,
   "metadata": {},
   "outputs": [],
   "source": [
    "clean_df= df.copy()"
   ]
  },
  {
   "cell_type": "code",
   "execution_count": 86,
   "metadata": {},
   "outputs": [
    {
     "name": "stdout",
     "output_type": "stream",
     "text": [
      "<class 'pandas.core.frame.DataFrame'>\n",
      "RangeIndex: 2200 entries, 0 to 2199\n",
      "Data columns (total 7 columns):\n",
      "created_at        2200 non-null object\n",
      "tweet_id          2200 non-null int64\n",
      "text              2200 non-null object\n",
      "favorite_count    2200 non-null int64\n",
      "retweet_count     2200 non-null int64\n",
      "hashtags          2200 non-null object\n",
      "url               2200 non-null object\n",
      "dtypes: int64(3), object(4)\n",
      "memory usage: 120.4+ KB\n"
     ]
    }
   ],
   "source": [
    "clean_df.info()"
   ]
  },
  {
   "cell_type": "code",
   "execution_count": 88,
   "metadata": {},
   "outputs": [],
   "source": [
    "df.to_csv('data_df.csv', encoding='utf-8', index=False)"
   ]
  },
  {
   "cell_type": "code",
   "execution_count": 95,
   "metadata": {},
   "outputs": [
    {
     "name": "stdout",
     "output_type": "stream",
     "text": [
      "<class 'pandas.core.frame.DataFrame'>\n",
      "RangeIndex: 2200 entries, 0 to 2199\n",
      "Data columns (total 7 columns):\n",
      "created_at        2200 non-null object\n",
      "tweet_id          2200 non-null int64\n",
      "text              2200 non-null object\n",
      "favorite_count    2200 non-null int64\n",
      "retweet_count     2200 non-null int64\n",
      "hashtags          2200 non-null object\n",
      "url               2200 non-null object\n",
      "dtypes: int64(3), object(4)\n",
      "memory usage: 120.4+ KB\n"
     ]
    }
   ],
   "source": [
    "#TEST\n",
    "\n",
    "data_df = pd.read_csv('data_df.csv')\n",
    "data_df.info()"
   ]
  },
  {
   "cell_type": "code",
   "execution_count": null,
   "metadata": {},
   "outputs": [],
   "source": []
  }
 ],
 "metadata": {
  "kernelspec": {
   "display_name": "Python 3",
   "language": "python",
   "name": "python3"
  },
  "language_info": {
   "codemirror_mode": {
    "name": "ipython",
    "version": 3
   },
   "file_extension": ".py",
   "mimetype": "text/x-python",
   "name": "python",
   "nbconvert_exporter": "python",
   "pygments_lexer": "ipython3",
   "version": "3.7.4"
  }
 },
 "nbformat": 4,
 "nbformat_minor": 2
}
