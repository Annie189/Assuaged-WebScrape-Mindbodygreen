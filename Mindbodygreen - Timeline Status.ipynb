{
 "cells": [
  {
   "cell_type": "code",
   "execution_count": 2,
   "metadata": {},
   "outputs": [
    {
     "name": "stdout",
     "output_type": "stream",
     "text": [
      "Requirement already satisfied: tweepy in c:\\users\\phuonganh\\anaconda3\\lib\\site-packages (3.8.0)\n",
      "Requirement already satisfied: requests-oauthlib>=0.7.0 in c:\\users\\phuonganh\\anaconda3\\lib\\site-packages (from tweepy) (1.3.0)\n",
      "Requirement already satisfied: PySocks>=1.5.7 in c:\\users\\phuonganh\\anaconda3\\lib\\site-packages (from tweepy) (1.7.1)\n",
      "Requirement already satisfied: six>=1.10.0 in c:\\users\\phuonganh\\anaconda3\\lib\\site-packages (from tweepy) (1.12.0)\n",
      "Requirement already satisfied: requests>=2.11.1 in c:\\users\\phuonganh\\anaconda3\\lib\\site-packages (from tweepy) (2.22.0)\n",
      "Requirement already satisfied: oauthlib>=3.0.0 in c:\\users\\phuonganh\\anaconda3\\lib\\site-packages (from requests-oauthlib>=0.7.0->tweepy) (3.1.0)\n",
      "Requirement already satisfied: certifi>=2017.4.17 in c:\\users\\phuonganh\\anaconda3\\lib\\site-packages (from requests>=2.11.1->tweepy) (2019.9.11)\n",
      "Requirement already satisfied: chardet<3.1.0,>=3.0.2 in c:\\users\\phuonganh\\anaconda3\\lib\\site-packages (from requests>=2.11.1->tweepy) (3.0.4)\n",
      "Requirement already satisfied: urllib3!=1.25.0,!=1.25.1,<1.26,>=1.21.1 in c:\\users\\phuonganh\\anaconda3\\lib\\site-packages (from requests>=2.11.1->tweepy) (1.24.2)\n",
      "Requirement already satisfied: idna<2.9,>=2.5 in c:\\users\\phuonganh\\anaconda3\\lib\\site-packages (from requests>=2.11.1->tweepy) (2.8)\n",
      "Note: you may need to restart the kernel to use updated packages.\n"
     ]
    }
   ],
   "source": [
    "pip install tweepy"
   ]
  },
  {
   "cell_type": "code",
   "execution_count": 3,
   "metadata": {},
   "outputs": [],
   "source": [
    "import numpy as np\n",
    "import os\n",
    "import pandas as pd\n",
    "import matplotlib.pyplot as plt\n",
    "import seaborn as sns\n",
    "import requests\n",
    "import tweepy\n",
    "import json\n",
    "from timeit import default_timer as timer\n",
    "from tweepy import OAuthHandler"
   ]
  },
  {
   "cell_type": "code",
   "execution_count": 4,
   "metadata": {},
   "outputs": [],
   "source": [
    "## copy paste these\n",
    "consumer_key='5KghTyzJOhxIbxqLgFveFnOCE'\n",
    "consumer_secret='kV4YPaDLaGaI1x1tA7dBgehoDsV6uTBgSEI5zj8baPND3QhiBW'\n",
    "access_token='1260634140006854663-feVj0RBokWTBaXYEQhSHufbNutsspC'\n",
    "access_token_secret='K0Aao1wRNTL3dGigWfZiTWVnVMFsSvfUsWPswfPBq4xgA'"
   ]
  },
  {
   "cell_type": "code",
   "execution_count": 5,
   "metadata": {},
   "outputs": [],
   "source": [
    "auth = tweepy.OAuthHandler(consumer_key, consumer_secret)\n",
    "auth.set_access_token(access_token, access_token_secret)\n",
    "api = tweepy.API(auth,wait_on_rate_limit=True,wait_on_rate_limit_notify=True)"
   ]
  },
  {
   "cell_type": "markdown",
   "metadata": {},
   "source": [
    "# I. Content"
   ]
  },
  {
   "cell_type": "markdown",
   "metadata": {},
   "source": [
    "# 1. Gathering Data"
   ]
  },
  {
   "cell_type": "code",
   "execution_count": 75,
   "metadata": {},
   "outputs": [],
   "source": [
    "screen_name='mindbodygreen' #user name\n",
    "count=200    #max=200\n",
    "page=0       #page 0 represent most recent tweets\n",
    "tweets=api.user_timeline(screen_name=screen_name,count=count,page=0)"
   ]
  },
  {
   "cell_type": "code",
   "execution_count": 76,
   "metadata": {},
   "outputs": [
    {
     "data": {
      "text/plain": [
       "3414"
      ]
     },
     "execution_count": 76,
     "metadata": {},
     "output_type": "execute_result"
    }
   ],
   "source": [
    "# scraping pages from 0 to 29\n",
    "pages = np.arange(30)\n",
    "\n",
    "txts = []\n",
    "for page in pages: \n",
    "    tweets = api.user_timeline(screen_name=screen_name, count=count, page=page)\n",
    "    for tweet in tweets: \n",
    "        txts.append(json.loads(json.dumps(tweet._json)))\n",
    "\n",
    "len(txts)"
   ]
  },
  {
   "cell_type": "code",
   "execution_count": 77,
   "metadata": {},
   "outputs": [
    {
     "data": {
      "text/plain": [
       "{'created_at': 'Wed Nov 27 22:01:01 +0000 2019',\n",
       " 'id': 1199810385127313408,\n",
       " 'id_str': '1199810385127313408',\n",
       " 'text': 'Your favorite, kid-approved side dish just got a low-carb makeover. 😋 https://t.co/qgMk7pxFSV',\n",
       " 'truncated': False,\n",
       " 'entities': {'hashtags': [],\n",
       "  'symbols': [],\n",
       "  'user_mentions': [],\n",
       "  'urls': [{'url': 'https://t.co/qgMk7pxFSV',\n",
       "    'expanded_url': 'http://ow.ly/xfys30pVyHW',\n",
       "    'display_url': 'ow.ly/xfys30pVyHW',\n",
       "    'indices': [70, 93]}]},\n",
       " 'source': '<a href=\"https://www.hootsuite.com\" rel=\"nofollow\">Hootsuite Inc.</a>',\n",
       " 'in_reply_to_status_id': None,\n",
       " 'in_reply_to_status_id_str': None,\n",
       " 'in_reply_to_user_id': None,\n",
       " 'in_reply_to_user_id_str': None,\n",
       " 'in_reply_to_screen_name': None,\n",
       " 'user': {'id': 17781673,\n",
       "  'id_str': '17781673',\n",
       "  'name': 'mindbodygreen',\n",
       "  'screen_name': 'mindbodygreen',\n",
       "  'location': 'Brooklyn, NY',\n",
       "  'description': 'connecting soul & science. 💫',\n",
       "  'url': 'http://t.co/xQ41BHxbiB',\n",
       "  'entities': {'url': {'urls': [{'url': 'http://t.co/xQ41BHxbiB',\n",
       "      'expanded_url': 'http://www.mindbodygreen.com',\n",
       "      'display_url': 'mindbodygreen.com',\n",
       "      'indices': [0, 22]}]},\n",
       "   'description': {'urls': []}},\n",
       "  'protected': False,\n",
       "  'followers_count': 305162,\n",
       "  'friends_count': 595,\n",
       "  'listed_count': 4823,\n",
       "  'created_at': 'Mon Dec 01 16:00:58 +0000 2008',\n",
       "  'favourites_count': 17895,\n",
       "  'utc_offset': None,\n",
       "  'time_zone': None,\n",
       "  'geo_enabled': True,\n",
       "  'verified': True,\n",
       "  'statuses_count': 84181,\n",
       "  'lang': None,\n",
       "  'contributors_enabled': False,\n",
       "  'is_translator': False,\n",
       "  'is_translation_enabled': False,\n",
       "  'profile_background_color': '0A0A0A',\n",
       "  'profile_background_image_url': 'http://abs.twimg.com/images/themes/theme1/bg.png',\n",
       "  'profile_background_image_url_https': 'https://abs.twimg.com/images/themes/theme1/bg.png',\n",
       "  'profile_background_tile': True,\n",
       "  'profile_image_url': 'http://pbs.twimg.com/profile_images/924958204043264000/5676I8Tq_normal.jpg',\n",
       "  'profile_image_url_https': 'https://pbs.twimg.com/profile_images/924958204043264000/5676I8Tq_normal.jpg',\n",
       "  'profile_banner_url': 'https://pbs.twimg.com/profile_banners/17781673/1573249979',\n",
       "  'profile_link_color': '91D2FA',\n",
       "  'profile_sidebar_border_color': 'FFFFFF',\n",
       "  'profile_sidebar_fill_color': '6E94CC',\n",
       "  'profile_text_color': '000000',\n",
       "  'profile_use_background_image': True,\n",
       "  'has_extended_profile': False,\n",
       "  'default_profile': False,\n",
       "  'default_profile_image': False,\n",
       "  'following': True,\n",
       "  'follow_request_sent': False,\n",
       "  'notifications': False,\n",
       "  'translator_type': 'none'},\n",
       " 'geo': None,\n",
       " 'coordinates': None,\n",
       " 'place': None,\n",
       " 'contributors': None,\n",
       " 'is_quote_status': False,\n",
       " 'retweet_count': 1,\n",
       " 'favorite_count': 4,\n",
       " 'favorited': False,\n",
       " 'retweeted': False,\n",
       " 'possibly_sensitive': False,\n",
       " 'lang': 'en'}"
      ]
     },
     "execution_count": 77,
     "metadata": {},
     "output_type": "execute_result"
    }
   ],
   "source": [
    "txts[3413]"
   ]
  },
  {
   "cell_type": "code",
   "execution_count": 78,
   "metadata": {},
   "outputs": [],
   "source": [
    "#get values lists\n",
    "time = []\n",
    "twtid = []\n",
    "text = []\n",
    "favorite_count = []\n",
    "retweet_count=[]\n",
    "hashtags=[]\n",
    "url=[]\n",
    "\n",
    "favorite_count=[]\n",
    "for line in txts:\n",
    "    time.append(line['created_at'])\n",
    "    twtid.append(line['id'])\n",
    "    text.append(line['text'])\n",
    "    favorite_count.append(line['favorite_count'])\n",
    "    retweet_count.append(line['retweet_count'])\n",
    "    hashtags.append(line['entities']['hashtags'])\n",
    "    url.append(line['entities']['urls'])"
   ]
  },
  {
   "cell_type": "code",
   "execution_count": 79,
   "metadata": {},
   "outputs": [
    {
     "name": "stdout",
     "output_type": "stream",
     "text": [
      "Requirement already satisfied: preprocessing in c:\\users\\phuonganh\\anaconda3\\lib\\site-packages (0.1.13)\n",
      "Requirement already satisfied: nltk==3.2.4 in c:\\users\\phuonganh\\anaconda3\\lib\\site-packages (from preprocessing) (3.2.4)\n",
      "Requirement already satisfied: sphinx-rtd-theme==0.2.4 in c:\\users\\phuonganh\\anaconda3\\lib\\site-packages (from preprocessing) (0.2.4)\n",
      "Requirement already satisfied: six in c:\\users\\phuonganh\\anaconda3\\lib\\site-packages (from nltk==3.2.4->preprocessing) (1.12.0)\n",
      "Note: you may need to restart the kernel to use updated packages.\n"
     ]
    }
   ],
   "source": [
    "pip install preprocessing"
   ]
  },
  {
   "cell_type": "code",
   "execution_count": 80,
   "metadata": {},
   "outputs": [
    {
     "name": "stdout",
     "output_type": "stream",
     "text": [
      "Requirement already satisfied: tweet-preprocessor in c:\\users\\phuonganh\\anaconda3\\lib\\site-packages (0.6.0)\n",
      "Note: you may need to restart the kernel to use updated packages.\n"
     ]
    }
   ],
   "source": [
    "pip install tweet-preprocessor"
   ]
  },
  {
   "cell_type": "code",
   "execution_count": 81,
   "metadata": {},
   "outputs": [
    {
     "data": {
      "text/plain": [
       "['We reached out to registered dietitians who explain the health benefits and side effects, plus how to get more in a']"
      ]
     },
     "execution_count": 81,
     "metadata": {},
     "output_type": "execute_result"
    }
   ],
   "source": [
    "# remove urls and hashtags in text\n",
    "#!pip install tweet-preprocessor \n",
    "\n",
    "import preprocessor as p\n",
    "p.clean(text[1])\n",
    "\n",
    "# remove hushtags and urls in all descriptions\n",
    "text_clean = []\n",
    "for line in text:\n",
    "    text_clean.append(p.clean(line))\n",
    "text_clean[:1]"
   ]
  },
  {
   "cell_type": "markdown",
   "metadata": {},
   "source": [
    "# 2. Assessing Data"
   ]
  },
  {
   "cell_type": "code",
   "execution_count": 82,
   "metadata": {},
   "outputs": [
    {
     "data": {
      "text/html": [
       "<div>\n",
       "<style scoped>\n",
       "    .dataframe tbody tr th:only-of-type {\n",
       "        vertical-align: middle;\n",
       "    }\n",
       "\n",
       "    .dataframe tbody tr th {\n",
       "        vertical-align: top;\n",
       "    }\n",
       "\n",
       "    .dataframe thead th {\n",
       "        text-align: right;\n",
       "    }\n",
       "</style>\n",
       "<table border=\"1\" class=\"dataframe\">\n",
       "  <thead>\n",
       "    <tr style=\"text-align: right;\">\n",
       "      <th></th>\n",
       "      <th>created_at</th>\n",
       "      <th>tweet_id</th>\n",
       "      <th>text_clean</th>\n",
       "      <th>favorite_count</th>\n",
       "      <th>retweet_count</th>\n",
       "      <th>hashtags</th>\n",
       "      <th>url</th>\n",
       "    </tr>\n",
       "  </thead>\n",
       "  <tbody>\n",
       "    <tr>\n",
       "      <td>0</td>\n",
       "      <td>Fri Jul 31 19:01:44 +0000 2020</td>\n",
       "      <td>1289275069370310656</td>\n",
       "      <td>We reached out to registered dietitians who ex...</td>\n",
       "      <td>2</td>\n",
       "      <td>1</td>\n",
       "      <td>[]</td>\n",
       "      <td>[{'url': 'https://t.co/nyAEuWKwWN', 'expanded_...</td>\n",
       "    </tr>\n",
       "    <tr>\n",
       "      <td>1</td>\n",
       "      <td>Fri Jul 31 17:03:42 +0000 2020</td>\n",
       "      <td>1289245366081093632</td>\n",
       "      <td>Happy . Here's how we're celebrating:</td>\n",
       "      <td>9</td>\n",
       "      <td>4</td>\n",
       "      <td>[{'text': 'NationalAvocadoDay', 'indices': [6,...</td>\n",
       "      <td>[{'url': 'https://t.co/gE60WESbnB', 'expanded_...</td>\n",
       "    </tr>\n",
       "    <tr>\n",
       "      <td>2</td>\n",
       "      <td>Fri Jul 31 15:03:04 +0000 2020</td>\n",
       "      <td>1289215003954831360</td>\n",
       "      <td>Before figuring out how your own body reacts t...</td>\n",
       "      <td>8</td>\n",
       "      <td>3</td>\n",
       "      <td>[]</td>\n",
       "      <td>[{'url': 'https://t.co/ixbJop7ZvT', 'expanded_...</td>\n",
       "    </tr>\n",
       "    <tr>\n",
       "      <td>3</td>\n",
       "      <td>Fri Jul 31 14:03:14 +0000 2020</td>\n",
       "      <td>1289199948404101120</td>\n",
       "      <td>We caught up with functional medicine leaders,...</td>\n",
       "      <td>9</td>\n",
       "      <td>3</td>\n",
       "      <td>[]</td>\n",
       "      <td>[{'url': 'https://t.co/atohj6rQy9', 'expanded_...</td>\n",
       "    </tr>\n",
       "    <tr>\n",
       "      <td>4</td>\n",
       "      <td>Fri Jul 31 13:02:53 +0000 2020</td>\n",
       "      <td>1289184761349459969</td>\n",
       "      <td>To acknowledge the beginning of harvest season...</td>\n",
       "      <td>11</td>\n",
       "      <td>3</td>\n",
       "      <td>[]</td>\n",
       "      <td>[{'url': 'https://t.co/jceakbNXM7', 'expanded_...</td>\n",
       "    </tr>\n",
       "    <tr>\n",
       "      <td>...</td>\n",
       "      <td>...</td>\n",
       "      <td>...</td>\n",
       "      <td>...</td>\n",
       "      <td>...</td>\n",
       "      <td>...</td>\n",
       "      <td>...</td>\n",
       "      <td>...</td>\n",
       "    </tr>\n",
       "    <tr>\n",
       "      <td>3409</td>\n",
       "      <td>Thu Nov 28 06:00:19 +0000 2019</td>\n",
       "      <td>1199931001599860736</td>\n",
       "      <td>\"I fell in love with the texture at first use,...</td>\n",
       "      <td>8</td>\n",
       "      <td>2</td>\n",
       "      <td>[]</td>\n",
       "      <td>[{'url': 'https://t.co/NhvEuTumKX', 'expanded_...</td>\n",
       "    </tr>\n",
       "    <tr>\n",
       "      <td>3410</td>\n",
       "      <td>Thu Nov 28 04:00:10 +0000 2019</td>\n",
       "      <td>1199900768125562880</td>\n",
       "      <td>The common ways your shadow may be sabotaging ...</td>\n",
       "      <td>2</td>\n",
       "      <td>0</td>\n",
       "      <td>[]</td>\n",
       "      <td>[{'url': 'https://t.co/z7FxuXG1nX', 'expanded_...</td>\n",
       "    </tr>\n",
       "    <tr>\n",
       "      <td>3411</td>\n",
       "      <td>Thu Nov 28 02:00:35 +0000 2019</td>\n",
       "      <td>1199870672077500416</td>\n",
       "      <td>Our love affair with all things tech is taking...</td>\n",
       "      <td>13</td>\n",
       "      <td>11</td>\n",
       "      <td>[]</td>\n",
       "      <td>[{'url': 'https://t.co/4nJUUbjAbm', 'expanded_...</td>\n",
       "    </tr>\n",
       "    <tr>\n",
       "      <td>3412</td>\n",
       "      <td>Thu Nov 28 00:00:54 +0000 2019</td>\n",
       "      <td>1199840553552232450</td>\n",
       "      <td>Here are both preventive strategies this exper...</td>\n",
       "      <td>15</td>\n",
       "      <td>7</td>\n",
       "      <td>[]</td>\n",
       "      <td>[{'url': 'https://t.co/c97nBD2MeC', 'expanded_...</td>\n",
       "    </tr>\n",
       "    <tr>\n",
       "      <td>3413</td>\n",
       "      <td>Wed Nov 27 22:01:01 +0000 2019</td>\n",
       "      <td>1199810385127313408</td>\n",
       "      <td>Your favorite, kid-approved side dish just got...</td>\n",
       "      <td>4</td>\n",
       "      <td>1</td>\n",
       "      <td>[]</td>\n",
       "      <td>[{'url': 'https://t.co/qgMk7pxFSV', 'expanded_...</td>\n",
       "    </tr>\n",
       "  </tbody>\n",
       "</table>\n",
       "<p>3414 rows × 7 columns</p>\n",
       "</div>"
      ],
      "text/plain": [
       "                          created_at             tweet_id  \\\n",
       "0     Fri Jul 31 19:01:44 +0000 2020  1289275069370310656   \n",
       "1     Fri Jul 31 17:03:42 +0000 2020  1289245366081093632   \n",
       "2     Fri Jul 31 15:03:04 +0000 2020  1289215003954831360   \n",
       "3     Fri Jul 31 14:03:14 +0000 2020  1289199948404101120   \n",
       "4     Fri Jul 31 13:02:53 +0000 2020  1289184761349459969   \n",
       "...                              ...                  ...   \n",
       "3409  Thu Nov 28 06:00:19 +0000 2019  1199931001599860736   \n",
       "3410  Thu Nov 28 04:00:10 +0000 2019  1199900768125562880   \n",
       "3411  Thu Nov 28 02:00:35 +0000 2019  1199870672077500416   \n",
       "3412  Thu Nov 28 00:00:54 +0000 2019  1199840553552232450   \n",
       "3413  Wed Nov 27 22:01:01 +0000 2019  1199810385127313408   \n",
       "\n",
       "                                             text_clean  favorite_count  \\\n",
       "0     We reached out to registered dietitians who ex...               2   \n",
       "1                 Happy . Here's how we're celebrating:               9   \n",
       "2     Before figuring out how your own body reacts t...               8   \n",
       "3     We caught up with functional medicine leaders,...               9   \n",
       "4     To acknowledge the beginning of harvest season...              11   \n",
       "...                                                 ...             ...   \n",
       "3409  \"I fell in love with the texture at first use,...               8   \n",
       "3410  The common ways your shadow may be sabotaging ...               2   \n",
       "3411  Our love affair with all things tech is taking...              13   \n",
       "3412  Here are both preventive strategies this exper...              15   \n",
       "3413  Your favorite, kid-approved side dish just got...               4   \n",
       "\n",
       "      retweet_count                                           hashtags  \\\n",
       "0                 1                                                 []   \n",
       "1                 4  [{'text': 'NationalAvocadoDay', 'indices': [6,...   \n",
       "2                 3                                                 []   \n",
       "3                 3                                                 []   \n",
       "4                 3                                                 []   \n",
       "...             ...                                                ...   \n",
       "3409              2                                                 []   \n",
       "3410              0                                                 []   \n",
       "3411             11                                                 []   \n",
       "3412              7                                                 []   \n",
       "3413              1                                                 []   \n",
       "\n",
       "                                                    url  \n",
       "0     [{'url': 'https://t.co/nyAEuWKwWN', 'expanded_...  \n",
       "1     [{'url': 'https://t.co/gE60WESbnB', 'expanded_...  \n",
       "2     [{'url': 'https://t.co/ixbJop7ZvT', 'expanded_...  \n",
       "3     [{'url': 'https://t.co/atohj6rQy9', 'expanded_...  \n",
       "4     [{'url': 'https://t.co/jceakbNXM7', 'expanded_...  \n",
       "...                                                 ...  \n",
       "3409  [{'url': 'https://t.co/NhvEuTumKX', 'expanded_...  \n",
       "3410  [{'url': 'https://t.co/z7FxuXG1nX', 'expanded_...  \n",
       "3411  [{'url': 'https://t.co/4nJUUbjAbm', 'expanded_...  \n",
       "3412  [{'url': 'https://t.co/c97nBD2MeC', 'expanded_...  \n",
       "3413  [{'url': 'https://t.co/qgMk7pxFSV', 'expanded_...  \n",
       "\n",
       "[3414 rows x 7 columns]"
      ]
     },
     "execution_count": 82,
     "metadata": {},
     "output_type": "execute_result"
    }
   ],
   "source": [
    "# create data frame\n",
    "df = pd.DataFrame(list(zip(time, twtid, text_clean, favorite_count, retweet_count, hashtags, url)),\n",
    "                             columns=['created_at', 'tweet_id','text_clean','favorite_count','retweet_count',\n",
    "                                     'hashtags','url'])\n",
    "df"
   ]
  },
  {
   "cell_type": "code",
   "execution_count": 83,
   "metadata": {},
   "outputs": [
    {
     "data": {
      "text/plain": [
       "Avoid these to make finding your partner way more pleasantand more likely!                                             4\n",
       "They might sound similar, but they actually have different symptoms and require totally different treatments.          4\n",
       "When feels a cold coming on, he reaches for the varieties that will fight off the illness completely (o                4\n",
       "We've been wondering: Are collagen powder and protein powder interchangeable?                                          4\n",
       "No. : \"Boundaries aren't meant to keep people out; they're meant to make it easier for people to get close.\"           4\n",
       "                                                                                                                      ..\n",
       "While crystals won't do all the work for us, theyre an accessible tool for harnessing good energies + reminding us     1\n",
       "Just as almonds provide nutrition and health benefits to our diets, they are full of health benefits for our strand    1\n",
       "There's more to tending to your complexion than a bathroom cabinet full of millennial-pink products. Here, our be      1\n",
       "Integrative medicine doctor knows how to optimize her focus, energy + metabolism. And guess what? Her -                1\n",
       "What specific social skills were lost? Here's what the researchers found:                                              1\n",
       "Name: text_clean, Length: 3039, dtype: int64"
      ]
     },
     "execution_count": 83,
     "metadata": {},
     "output_type": "execute_result"
    }
   ],
   "source": [
    "df['text_clean'].value_counts()"
   ]
  },
  {
   "cell_type": "code",
   "execution_count": 16,
   "metadata": {},
   "outputs": [
    {
     "data": {
      "text/html": [
       "<div>\n",
       "<style scoped>\n",
       "    .dataframe tbody tr th:only-of-type {\n",
       "        vertical-align: middle;\n",
       "    }\n",
       "\n",
       "    .dataframe tbody tr th {\n",
       "        vertical-align: top;\n",
       "    }\n",
       "\n",
       "    .dataframe thead th {\n",
       "        text-align: right;\n",
       "    }\n",
       "</style>\n",
       "<table border=\"1\" class=\"dataframe\">\n",
       "  <thead>\n",
       "    <tr style=\"text-align: right;\">\n",
       "      <th></th>\n",
       "      <th>tweet_id</th>\n",
       "      <th>favorite_count</th>\n",
       "      <th>retweet_count</th>\n",
       "    </tr>\n",
       "  </thead>\n",
       "  <tbody>\n",
       "    <tr>\n",
       "      <td>count</td>\n",
       "      <td>3.413000e+03</td>\n",
       "      <td>3413.000000</td>\n",
       "      <td>3413.000000</td>\n",
       "    </tr>\n",
       "    <tr>\n",
       "      <td>mean</td>\n",
       "      <td>1.246019e+18</td>\n",
       "      <td>10.918840</td>\n",
       "      <td>3.947260</td>\n",
       "    </tr>\n",
       "    <tr>\n",
       "      <td>std</td>\n",
       "      <td>2.685540e+16</td>\n",
       "      <td>8.122424</td>\n",
       "      <td>3.348921</td>\n",
       "    </tr>\n",
       "    <tr>\n",
       "      <td>min</td>\n",
       "      <td>1.199810e+18</td>\n",
       "      <td>0.000000</td>\n",
       "      <td>0.000000</td>\n",
       "    </tr>\n",
       "    <tr>\n",
       "      <td>25%</td>\n",
       "      <td>1.222701e+18</td>\n",
       "      <td>5.000000</td>\n",
       "      <td>2.000000</td>\n",
       "    </tr>\n",
       "    <tr>\n",
       "      <td>50%</td>\n",
       "      <td>1.245728e+18</td>\n",
       "      <td>9.000000</td>\n",
       "      <td>3.000000</td>\n",
       "    </tr>\n",
       "    <tr>\n",
       "      <td>75%</td>\n",
       "      <td>1.269676e+18</td>\n",
       "      <td>14.000000</td>\n",
       "      <td>5.000000</td>\n",
       "    </tr>\n",
       "    <tr>\n",
       "      <td>max</td>\n",
       "      <td>1.289245e+18</td>\n",
       "      <td>73.000000</td>\n",
       "      <td>28.000000</td>\n",
       "    </tr>\n",
       "  </tbody>\n",
       "</table>\n",
       "</div>"
      ],
      "text/plain": [
       "           tweet_id  favorite_count  retweet_count\n",
       "count  3.413000e+03     3413.000000    3413.000000\n",
       "mean   1.246019e+18       10.918840       3.947260\n",
       "std    2.685540e+16        8.122424       3.348921\n",
       "min    1.199810e+18        0.000000       0.000000\n",
       "25%    1.222701e+18        5.000000       2.000000\n",
       "50%    1.245728e+18        9.000000       3.000000\n",
       "75%    1.269676e+18       14.000000       5.000000\n",
       "max    1.289245e+18       73.000000      28.000000"
      ]
     },
     "execution_count": 16,
     "metadata": {},
     "output_type": "execute_result"
    }
   ],
   "source": [
    "df.describe()"
   ]
  },
  {
   "cell_type": "code",
   "execution_count": 84,
   "metadata": {},
   "outputs": [
    {
     "name": "stdout",
     "output_type": "stream",
     "text": [
      "<class 'pandas.core.frame.DataFrame'>\n",
      "RangeIndex: 3414 entries, 0 to 3413\n",
      "Data columns (total 7 columns):\n",
      "created_at        3414 non-null object\n",
      "tweet_id          3414 non-null int64\n",
      "text_clean        3414 non-null object\n",
      "favorite_count    3414 non-null int64\n",
      "retweet_count     3414 non-null int64\n",
      "hashtags          3414 non-null object\n",
      "url               3414 non-null object\n",
      "dtypes: int64(3), object(4)\n",
      "memory usage: 186.8+ KB\n"
     ]
    }
   ],
   "source": [
    "df.info()"
   ]
  },
  {
   "cell_type": "markdown",
   "metadata": {},
   "source": [
    "# 3. Clean & Store Data"
   ]
  },
  {
   "cell_type": "code",
   "execution_count": 85,
   "metadata": {},
   "outputs": [],
   "source": [
    "#copy data\n",
    "clean_df= df.copy()"
   ]
  },
  {
   "cell_type": "code",
   "execution_count": 86,
   "metadata": {},
   "outputs": [
    {
     "name": "stdout",
     "output_type": "stream",
     "text": [
      "<class 'pandas.core.frame.DataFrame'>\n",
      "RangeIndex: 3414 entries, 0 to 3413\n",
      "Data columns (total 7 columns):\n",
      "created_at        3414 non-null object\n",
      "tweet_id          3414 non-null int64\n",
      "text_clean        3414 non-null object\n",
      "favorite_count    3414 non-null int64\n",
      "retweet_count     3414 non-null int64\n",
      "hashtags          3414 non-null object\n",
      "url               3414 non-null object\n",
      "dtypes: int64(3), object(4)\n",
      "memory usage: 186.8+ KB\n"
     ]
    }
   ],
   "source": [
    "clean_df.info()"
   ]
  },
  {
   "cell_type": "markdown",
   "metadata": {},
   "source": [
    "CLEAN HASHTAGS"
   ]
  },
  {
   "cell_type": "code",
   "execution_count": 87,
   "metadata": {
    "scrolled": false
   },
   "outputs": [
    {
     "data": {
      "text/plain": [
       "[]                                                           3302\n",
       "[{'text': 'mbgPodcast', 'indices': [8, 19]}]                   25\n",
       "[{'text': 'mbgPodcast', 'indices': [11, 22]}]                  14\n",
       "[{'text': 'mbgpartner', 'indices': [127, 138]}]                 2\n",
       "[{'text': 'NationalIceCreamDay', 'indices': [5, 25]}]           2\n",
       "                                                             ... \n",
       "[{'text': 'NationalDisabilityDay', 'indices': [14, 36]}]        1\n",
       "[{'text': 'mbgpartner', 'indices': [117, 128]}]                 1\n",
       "[{'text': 'InternationalWomensDay', 'indices': [26, 49]}]       1\n",
       "[{'text': 'mbgPodcast', 'indices': [56, 67]}]                   1\n",
       "[{'text': 'mbgPodcast', 'indices': [70, 81]}]                   1\n",
       "Name: hashtags, Length: 67, dtype: int64"
      ]
     },
     "execution_count": 87,
     "metadata": {},
     "output_type": "execute_result"
    }
   ],
   "source": [
    "clean_df['hashtags'].value_counts()"
   ]
  },
  {
   "cell_type": "code",
   "execution_count": 88,
   "metadata": {},
   "outputs": [],
   "source": [
    "import re\n",
    "import string"
   ]
  },
  {
   "cell_type": "code",
   "execution_count": 89,
   "metadata": {},
   "outputs": [],
   "source": [
    "#remove '[]' in hashtags\n",
    "clean_df.hashtags = clean_df.hashtags.replace('[]','')"
   ]
  },
  {
   "cell_type": "code",
   "execution_count": 90,
   "metadata": {},
   "outputs": [],
   "source": [
    "#convert hashtags into string\n",
    "clean_df['hashtags']=clean_df['hashtags'].apply(str)"
   ]
  },
  {
   "cell_type": "code",
   "execution_count": 91,
   "metadata": {},
   "outputs": [
    {
     "data": {
      "text/plain": [
       "[]"
      ]
     },
     "execution_count": 91,
     "metadata": {},
     "output_type": "execute_result"
    }
   ],
   "source": [
    "# look behind\n",
    "re.findall(r\"(?<='text':\\s\\')\\w+\",clean_df.hashtags[3])"
   ]
  },
  {
   "cell_type": "code",
   "execution_count": 92,
   "metadata": {},
   "outputs": [
    {
     "data": {
      "text/plain": [
       "''"
      ]
     },
     "execution_count": 92,
     "metadata": {},
     "output_type": "execute_result"
    }
   ],
   "source": [
    "' '.join(re.findall(r\"(?<='text':\\s\\')\\w+\",clean_df.hashtags[3]))"
   ]
  },
  {
   "cell_type": "code",
   "execution_count": 93,
   "metadata": {},
   "outputs": [],
   "source": [
    "# apply to every rows\n",
    "clean_df.hashtags=clean_df.hashtags.apply(lambda row: ' '.join(re.findall(r\"(?<='text':\\s\\')\\w+\",row)))"
   ]
  },
  {
   "cell_type": "code",
   "execution_count": 94,
   "metadata": {},
   "outputs": [
    {
     "data": {
      "text/plain": [
       "                                      3302\n",
       "mbgPodcast                              54\n",
       "mbgpartner                              16\n",
       "TraderJoes                               8\n",
       "NationalIceCreamDay                      4\n",
       "NationalHempDay                          3\n",
       "NationalAvocadoDay                       2\n",
       "AmericanPistachios mbgpartner            2\n",
       "mbgpodcast                               1\n",
       "BettyWhite                               1\n",
       "InternationalWomensDay                   1\n",
       "EarthDay                                 1\n",
       "aerieReal                                1\n",
       "ad                                       1\n",
       "PlasticFreeJuly                          1\n",
       "Clean15                                  1\n",
       "EllieKemper                              1\n",
       "chomps cantstopwontstop mbgpartner       1\n",
       "mbgPodcasat                              1\n",
       "BlackBotanistsWeek                       1\n",
       "NationalDisabilityDay                    1\n",
       "covergirls                               1\n",
       "ReneeZellweger                           1\n",
       "GalentinesDay                            1\n",
       "LUNYA mbgpartner                         1\n",
       "MothersDay                               1\n",
       "NationalBagelDay                         1\n",
       "FridgeGoals                              1\n",
       "CincodeMayo                              1\n",
       "QuarantineCrew                           1\n",
       "ObjectiveWellness                        1\n",
       "Name: hashtags, dtype: int64"
      ]
     },
     "execution_count": 94,
     "metadata": {},
     "output_type": "execute_result"
    }
   ],
   "source": [
    "#check again\n",
    "clean_df.hashtags.value_counts()"
   ]
  },
  {
   "cell_type": "markdown",
   "metadata": {},
   "source": [
    "CONVERT TIME TO RIGHT DATA TYPE & DATETIME"
   ]
  },
  {
   "cell_type": "code",
   "execution_count": 95,
   "metadata": {},
   "outputs": [],
   "source": [
    "# Convert timestamp datatype to datetime\n",
    "clean_df['created_at'] = pd.to_datetime(clean_df['created_at'], infer_datetime_format=True)"
   ]
  },
  {
   "cell_type": "code",
   "execution_count": 96,
   "metadata": {},
   "outputs": [
    {
     "name": "stdout",
     "output_type": "stream",
     "text": [
      "<class 'pandas.core.frame.DataFrame'>\n",
      "RangeIndex: 3414 entries, 0 to 3413\n",
      "Data columns (total 7 columns):\n",
      "created_at        3414 non-null datetime64[ns, UTC]\n",
      "tweet_id          3414 non-null int64\n",
      "text_clean        3414 non-null object\n",
      "favorite_count    3414 non-null int64\n",
      "retweet_count     3414 non-null int64\n",
      "hashtags          3414 non-null object\n",
      "url               3414 non-null object\n",
      "dtypes: datetime64[ns, UTC](1), int64(3), object(3)\n",
      "memory usage: 186.8+ KB\n"
     ]
    }
   ],
   "source": [
    "#Check again\n",
    "clean_df.info()"
   ]
  },
  {
   "cell_type": "code",
   "execution_count": 99,
   "metadata": {},
   "outputs": [],
   "source": [
    "#save 1st file\n",
    "clean_df.to_csv('Clean_data_Mindbodygreen.csv', encoding='utf-8', index=False)"
   ]
  },
  {
   "cell_type": "code",
   "execution_count": 100,
   "metadata": {},
   "outputs": [
    {
     "name": "stdout",
     "output_type": "stream",
     "text": [
      "<class 'pandas.core.frame.DataFrame'>\n",
      "RangeIndex: 3414 entries, 0 to 3413\n",
      "Data columns (total 7 columns):\n",
      "created_at        3414 non-null object\n",
      "tweet_id          3414 non-null int64\n",
      "text_clean        3414 non-null object\n",
      "favorite_count    3414 non-null int64\n",
      "retweet_count     3414 non-null int64\n",
      "hashtags          112 non-null object\n",
      "url               3414 non-null object\n",
      "dtypes: int64(3), object(4)\n",
      "memory usage: 186.8+ KB\n"
     ]
    }
   ],
   "source": [
    "#CHECK AGAIN\n",
    "new_df = pd.read_csv('Clean_data_Mindbodygreen.csv')\n",
    "new_df.info()"
   ]
  },
  {
   "cell_type": "markdown",
   "metadata": {},
   "source": [
    "CHECK DUPLICATES"
   ]
  },
  {
   "cell_type": "code",
   "execution_count": 101,
   "metadata": {},
   "outputs": [
    {
     "data": {
      "text/plain": [
       "199"
      ]
     },
     "execution_count": 101,
     "metadata": {},
     "output_type": "execute_result"
    }
   ],
   "source": [
    "sum(new_df.duplicated())"
   ]
  },
  {
   "cell_type": "code",
   "execution_count": 102,
   "metadata": {},
   "outputs": [
    {
     "data": {
      "text/plain": [
       "1289199948404101120    2\n",
       "1284020342923710464    2\n",
       "1286496396590436353    2\n",
       "1286858738511622144    2\n",
       "1283869401620590592    2\n",
       "                      ..\n",
       "1213098100602081280    1\n",
       "1267018105919868929    1\n",
       "1213309119911866368    1\n",
       "1281725131912630273    1\n",
       "1234689994192805888    1\n",
       "Name: tweet_id, Length: 3214, dtype: int64"
      ]
     },
     "execution_count": 102,
     "metadata": {},
     "output_type": "execute_result"
    }
   ],
   "source": [
    "new_df['tweet_id'].value_counts()"
   ]
  },
  {
   "cell_type": "code",
   "execution_count": 103,
   "metadata": {},
   "outputs": [],
   "source": [
    "#remove duplicates\n",
    "new_df.drop_duplicates(inplace=True)"
   ]
  },
  {
   "cell_type": "code",
   "execution_count": 104,
   "metadata": {},
   "outputs": [
    {
     "data": {
      "text/plain": [
       "0"
      ]
     },
     "execution_count": 104,
     "metadata": {},
     "output_type": "execute_result"
    }
   ],
   "source": [
    "#check again\n",
    "sum(new_df.duplicated())"
   ]
  },
  {
   "cell_type": "code",
   "execution_count": 105,
   "metadata": {},
   "outputs": [],
   "source": [
    "#SAVE FINAL CSV FILE\n",
    "new_df.to_csv('Final_Clean_Mindbodygreen.csv', encoding='utf-8', index=False)"
   ]
  },
  {
   "cell_type": "code",
   "execution_count": 106,
   "metadata": {
    "scrolled": true
   },
   "outputs": [
    {
     "data": {
      "text/html": [
       "<div>\n",
       "<style scoped>\n",
       "    .dataframe tbody tr th:only-of-type {\n",
       "        vertical-align: middle;\n",
       "    }\n",
       "\n",
       "    .dataframe tbody tr th {\n",
       "        vertical-align: top;\n",
       "    }\n",
       "\n",
       "    .dataframe thead th {\n",
       "        text-align: right;\n",
       "    }\n",
       "</style>\n",
       "<table border=\"1\" class=\"dataframe\">\n",
       "  <thead>\n",
       "    <tr style=\"text-align: right;\">\n",
       "      <th></th>\n",
       "      <th>created_at</th>\n",
       "      <th>tweet_id</th>\n",
       "      <th>text_clean</th>\n",
       "      <th>favorite_count</th>\n",
       "      <th>retweet_count</th>\n",
       "      <th>hashtags</th>\n",
       "      <th>url</th>\n",
       "    </tr>\n",
       "  </thead>\n",
       "  <tbody>\n",
       "    <tr>\n",
       "      <td>0</td>\n",
       "      <td>2020-07-31 19:01:44+00:00</td>\n",
       "      <td>1289275069370310656</td>\n",
       "      <td>We reached out to registered dietitians who ex...</td>\n",
       "      <td>2</td>\n",
       "      <td>1</td>\n",
       "      <td>NaN</td>\n",
       "      <td>[{'url': 'https://t.co/nyAEuWKwWN', 'expanded_...</td>\n",
       "    </tr>\n",
       "    <tr>\n",
       "      <td>1</td>\n",
       "      <td>2020-07-31 17:03:42+00:00</td>\n",
       "      <td>1289245366081093632</td>\n",
       "      <td>Happy . Here's how we're celebrating:</td>\n",
       "      <td>9</td>\n",
       "      <td>4</td>\n",
       "      <td>NationalAvocadoDay</td>\n",
       "      <td>[{'url': 'https://t.co/gE60WESbnB', 'expanded_...</td>\n",
       "    </tr>\n",
       "    <tr>\n",
       "      <td>2</td>\n",
       "      <td>2020-07-31 15:03:04+00:00</td>\n",
       "      <td>1289215003954831360</td>\n",
       "      <td>Before figuring out how your own body reacts t...</td>\n",
       "      <td>8</td>\n",
       "      <td>3</td>\n",
       "      <td>NaN</td>\n",
       "      <td>[{'url': 'https://t.co/ixbJop7ZvT', 'expanded_...</td>\n",
       "    </tr>\n",
       "    <tr>\n",
       "      <td>3</td>\n",
       "      <td>2020-07-31 14:03:14+00:00</td>\n",
       "      <td>1289199948404101120</td>\n",
       "      <td>We caught up with functional medicine leaders,...</td>\n",
       "      <td>9</td>\n",
       "      <td>3</td>\n",
       "      <td>NaN</td>\n",
       "      <td>[{'url': 'https://t.co/atohj6rQy9', 'expanded_...</td>\n",
       "    </tr>\n",
       "    <tr>\n",
       "      <td>4</td>\n",
       "      <td>2020-07-31 13:02:53+00:00</td>\n",
       "      <td>1289184761349459969</td>\n",
       "      <td>To acknowledge the beginning of harvest season...</td>\n",
       "      <td>11</td>\n",
       "      <td>3</td>\n",
       "      <td>NaN</td>\n",
       "      <td>[{'url': 'https://t.co/jceakbNXM7', 'expanded_...</td>\n",
       "    </tr>\n",
       "    <tr>\n",
       "      <td>...</td>\n",
       "      <td>...</td>\n",
       "      <td>...</td>\n",
       "      <td>...</td>\n",
       "      <td>...</td>\n",
       "      <td>...</td>\n",
       "      <td>...</td>\n",
       "      <td>...</td>\n",
       "    </tr>\n",
       "    <tr>\n",
       "      <td>3210</td>\n",
       "      <td>2019-11-28 06:00:19+00:00</td>\n",
       "      <td>1199931001599860736</td>\n",
       "      <td>\"I fell in love with the texture at first use,...</td>\n",
       "      <td>8</td>\n",
       "      <td>2</td>\n",
       "      <td>NaN</td>\n",
       "      <td>[{'url': 'https://t.co/NhvEuTumKX', 'expanded_...</td>\n",
       "    </tr>\n",
       "    <tr>\n",
       "      <td>3211</td>\n",
       "      <td>2019-11-28 04:00:10+00:00</td>\n",
       "      <td>1199900768125562880</td>\n",
       "      <td>The common ways your shadow may be sabotaging ...</td>\n",
       "      <td>2</td>\n",
       "      <td>0</td>\n",
       "      <td>NaN</td>\n",
       "      <td>[{'url': 'https://t.co/z7FxuXG1nX', 'expanded_...</td>\n",
       "    </tr>\n",
       "    <tr>\n",
       "      <td>3212</td>\n",
       "      <td>2019-11-28 02:00:35+00:00</td>\n",
       "      <td>1199870672077500416</td>\n",
       "      <td>Our love affair with all things tech is taking...</td>\n",
       "      <td>13</td>\n",
       "      <td>11</td>\n",
       "      <td>NaN</td>\n",
       "      <td>[{'url': 'https://t.co/4nJUUbjAbm', 'expanded_...</td>\n",
       "    </tr>\n",
       "    <tr>\n",
       "      <td>3213</td>\n",
       "      <td>2019-11-28 00:00:54+00:00</td>\n",
       "      <td>1199840553552232450</td>\n",
       "      <td>Here are both preventive strategies this exper...</td>\n",
       "      <td>15</td>\n",
       "      <td>7</td>\n",
       "      <td>NaN</td>\n",
       "      <td>[{'url': 'https://t.co/c97nBD2MeC', 'expanded_...</td>\n",
       "    </tr>\n",
       "    <tr>\n",
       "      <td>3214</td>\n",
       "      <td>2019-11-27 22:01:01+00:00</td>\n",
       "      <td>1199810385127313408</td>\n",
       "      <td>Your favorite, kid-approved side dish just got...</td>\n",
       "      <td>4</td>\n",
       "      <td>1</td>\n",
       "      <td>NaN</td>\n",
       "      <td>[{'url': 'https://t.co/qgMk7pxFSV', 'expanded_...</td>\n",
       "    </tr>\n",
       "  </tbody>\n",
       "</table>\n",
       "<p>3215 rows × 7 columns</p>\n",
       "</div>"
      ],
      "text/plain": [
       "                     created_at             tweet_id  \\\n",
       "0     2020-07-31 19:01:44+00:00  1289275069370310656   \n",
       "1     2020-07-31 17:03:42+00:00  1289245366081093632   \n",
       "2     2020-07-31 15:03:04+00:00  1289215003954831360   \n",
       "3     2020-07-31 14:03:14+00:00  1289199948404101120   \n",
       "4     2020-07-31 13:02:53+00:00  1289184761349459969   \n",
       "...                         ...                  ...   \n",
       "3210  2019-11-28 06:00:19+00:00  1199931001599860736   \n",
       "3211  2019-11-28 04:00:10+00:00  1199900768125562880   \n",
       "3212  2019-11-28 02:00:35+00:00  1199870672077500416   \n",
       "3213  2019-11-28 00:00:54+00:00  1199840553552232450   \n",
       "3214  2019-11-27 22:01:01+00:00  1199810385127313408   \n",
       "\n",
       "                                             text_clean  favorite_count  \\\n",
       "0     We reached out to registered dietitians who ex...               2   \n",
       "1                 Happy . Here's how we're celebrating:               9   \n",
       "2     Before figuring out how your own body reacts t...               8   \n",
       "3     We caught up with functional medicine leaders,...               9   \n",
       "4     To acknowledge the beginning of harvest season...              11   \n",
       "...                                                 ...             ...   \n",
       "3210  \"I fell in love with the texture at first use,...               8   \n",
       "3211  The common ways your shadow may be sabotaging ...               2   \n",
       "3212  Our love affair with all things tech is taking...              13   \n",
       "3213  Here are both preventive strategies this exper...              15   \n",
       "3214  Your favorite, kid-approved side dish just got...               4   \n",
       "\n",
       "      retweet_count            hashtags  \\\n",
       "0                 1                 NaN   \n",
       "1                 4  NationalAvocadoDay   \n",
       "2                 3                 NaN   \n",
       "3                 3                 NaN   \n",
       "4                 3                 NaN   \n",
       "...             ...                 ...   \n",
       "3210              2                 NaN   \n",
       "3211              0                 NaN   \n",
       "3212             11                 NaN   \n",
       "3213              7                 NaN   \n",
       "3214              1                 NaN   \n",
       "\n",
       "                                                    url  \n",
       "0     [{'url': 'https://t.co/nyAEuWKwWN', 'expanded_...  \n",
       "1     [{'url': 'https://t.co/gE60WESbnB', 'expanded_...  \n",
       "2     [{'url': 'https://t.co/ixbJop7ZvT', 'expanded_...  \n",
       "3     [{'url': 'https://t.co/atohj6rQy9', 'expanded_...  \n",
       "4     [{'url': 'https://t.co/jceakbNXM7', 'expanded_...  \n",
       "...                                                 ...  \n",
       "3210  [{'url': 'https://t.co/NhvEuTumKX', 'expanded_...  \n",
       "3211  [{'url': 'https://t.co/z7FxuXG1nX', 'expanded_...  \n",
       "3212  [{'url': 'https://t.co/4nJUUbjAbm', 'expanded_...  \n",
       "3213  [{'url': 'https://t.co/c97nBD2MeC', 'expanded_...  \n",
       "3214  [{'url': 'https://t.co/qgMk7pxFSV', 'expanded_...  \n",
       "\n",
       "[3215 rows x 7 columns]"
      ]
     },
     "execution_count": 106,
     "metadata": {},
     "output_type": "execute_result"
    }
   ],
   "source": [
    "final_df = pd.read_csv('Final_Clean_Mindbodygreen.csv')\n",
    "final_df"
   ]
  },
  {
   "cell_type": "code",
   "execution_count": 107,
   "metadata": {},
   "outputs": [
    {
     "data": {
      "text/plain": [
       "mbgPodcast                            51\n",
       "mbgpartner                            16\n",
       "TraderJoes                             8\n",
       "NationalHempDay                        3\n",
       "NationalIceCreamDay                    2\n",
       "AmericanPistachios mbgpartner          2\n",
       "chomps cantstopwontstop mbgpartner     1\n",
       "mbgPodcasat                            1\n",
       "mbgpodcast                             1\n",
       "BettyWhite                             1\n",
       "InternationalWomensDay                 1\n",
       "ad                                     1\n",
       "PlasticFreeJuly                        1\n",
       "Clean15                                1\n",
       "EllieKemper                            1\n",
       "EarthDay                               1\n",
       "ObjectiveWellness                      1\n",
       "BlackBotanistsWeek                     1\n",
       "NationalDisabilityDay                  1\n",
       "NationalAvocadoDay                     1\n",
       "covergirls                             1\n",
       "ReneeZellweger                         1\n",
       "GalentinesDay                          1\n",
       "LUNYA mbgpartner                       1\n",
       "MothersDay                             1\n",
       "NationalBagelDay                       1\n",
       "FridgeGoals                            1\n",
       "CincodeMayo                            1\n",
       "QuarantineCrew                         1\n",
       "aerieReal                              1\n",
       "Name: hashtags, dtype: int64"
      ]
     },
     "execution_count": 107,
     "metadata": {},
     "output_type": "execute_result"
    }
   ],
   "source": [
    "final_df['hashtags'].value_counts()"
   ]
  },
  {
   "cell_type": "code",
   "execution_count": 66,
   "metadata": {},
   "outputs": [
    {
     "name": "stdout",
     "output_type": "stream",
     "text": [
      "<class 'pandas.core.frame.DataFrame'>\n",
      "Int64Index: 3213 entries, 0 to 3412\n",
      "Data columns (total 7 columns):\n",
      "created_at        3213 non-null object\n",
      "tweet_id          3213 non-null int64\n",
      "text_clean        3213 non-null object\n",
      "favorite_count    3213 non-null int64\n",
      "retweet_count     3213 non-null int64\n",
      "hashtags          3213 non-null object\n",
      "url               3213 non-null object\n",
      "dtypes: int64(3), object(4)\n",
      "memory usage: 200.8+ KB\n"
     ]
    }
   ],
   "source": [
    "#asses again\n",
    "new_df.info()"
   ]
  },
  {
   "cell_type": "markdown",
   "metadata": {},
   "source": [
    "# II. Profile"
   ]
  },
  {
   "cell_type": "code",
   "execution_count": 6,
   "metadata": {},
   "outputs": [],
   "source": [
    "#date_since = \"2020-05-29\"\n",
    "mindbodygreen=api.get_user(screen_name='mindbodygreen')"
   ]
  },
  {
   "cell_type": "code",
   "execution_count": 7,
   "metadata": {},
   "outputs": [],
   "source": [
    "#getting the latest total followers count, favorites count and posts count\n",
    "follower_count = mindbodygreen.followers_count\n",
    "favourites_count = mindbodygreen.favourites_count\n",
    "posts_count = mindbodygreen.statuses_count"
   ]
  },
  {
   "cell_type": "code",
   "execution_count": 8,
   "metadata": {},
   "outputs": [
    {
     "name": "stdout",
     "output_type": "stream",
     "text": [
      "305088\n",
      "17893\n",
      "84264\n"
     ]
    }
   ],
   "source": [
    "#latest count output\n",
    "print(follower_count)\n",
    "print(favourites_count)\n",
    "print(posts_count)"
   ]
  },
  {
   "cell_type": "markdown",
   "metadata": {},
   "source": [
    "# III. Audience"
   ]
  },
  {
   "cell_type": "code",
   "execution_count": 9,
   "metadata": {},
   "outputs": [
    {
     "name": "stderr",
     "output_type": "stream",
     "text": [
      "Rate limit reached. Sleeping for: 890\n",
      "Rate limit reached. Sleeping for: 891\n",
      "Rate limit reached. Sleeping for: 891\n"
     ]
    },
    {
     "data": {
      "text/plain": [
       "1000"
      ]
     },
     "execution_count": 9,
     "metadata": {},
     "output_type": "execute_result"
    }
   ],
   "source": [
    "screen_name='mindbodygreen'\n",
    "follower=api.followers(screen_name=screen_name,count=200)\n",
    "\n",
    "txts_users = []\n",
    "for tweet in tweepy.Cursor(api.followers, screen_name=screen_name).items(1000): \n",
    "    txts_users.append(json.loads(json.dumps(tweet._json)))\n",
    "\n",
    "len(txts_users)"
   ]
  },
  {
   "cell_type": "code",
   "execution_count": 10,
   "metadata": {},
   "outputs": [
    {
     "data": {
      "text/plain": [
       "{'id': 16426961,\n",
       " 'id_str': '16426961',\n",
       " 'name': '𝖈𝖍𝖗𝖎𝖘𝖙𝖊𝖑𝖑𝖊 ☪︎',\n",
       " 'screen_name': 'ChristelleBacho',\n",
       " 'location': 'San Francisco, CA',\n",
       " 'description': \"❀ 𝚓𝚞𝚜𝚝 𝚠𝚑𝚎𝚗 𝚢𝚘𝚞 𝚝𝚑𝚘𝚞𝚐𝚑𝚝 𝚒 𝚌𝚘𝚞𝚕𝚍𝚗'𝚝 𝚐𝚎𝚝 𝚊𝚗𝚢 𝚠𝚘𝚛𝚜𝚎, 𝚒'𝚖 𝚊 𝚜𝚘𝚋𝚎𝚛, 𝚙𝚕𝚊𝚗𝚝-𝚋𝚊𝚜𝚎𝚍 𝚟𝚎𝚐𝚊𝚗 𝚗𝚘𝚠 ☺︎✌︎\",\n",
       " 'url': 'https://t.co/aGrshjZmxm',\n",
       " 'entities': {'url': {'urls': [{'url': 'https://t.co/aGrshjZmxm',\n",
       "     'expanded_url': 'http://www.instagram.com/christellebacho',\n",
       "     'display_url': 'instagram.com/christellebacho',\n",
       "     'indices': [0, 23]}]},\n",
       "  'description': {'urls': []}},\n",
       " 'protected': False,\n",
       " 'followers_count': 1166,\n",
       " 'friends_count': 1571,\n",
       " 'listed_count': 50,\n",
       " 'created_at': 'Tue Sep 23 23:07:05 +0000 2008',\n",
       " 'favourites_count': 17615,\n",
       " 'utc_offset': None,\n",
       " 'time_zone': None,\n",
       " 'geo_enabled': True,\n",
       " 'verified': False,\n",
       " 'statuses_count': 18590,\n",
       " 'lang': None,\n",
       " 'status': {'created_at': 'Fri Aug 07 18:09:26 +0000 2020',\n",
       "  'id': 1291798623399755776,\n",
       "  'id_str': '1291798623399755776',\n",
       "  'text': 'what’s with the huge surge of random creepy biker-gang lookin’ old dudes following me on insta??? \\n\\nMOM can you come get me??? i’m scared 😩',\n",
       "  'truncated': False,\n",
       "  'entities': {'hashtags': [], 'symbols': [], 'user_mentions': [], 'urls': []},\n",
       "  'source': '<a href=\"http://twitter.com/download/iphone\" rel=\"nofollow\">Twitter for iPhone</a>',\n",
       "  'in_reply_to_status_id': None,\n",
       "  'in_reply_to_status_id_str': None,\n",
       "  'in_reply_to_user_id': None,\n",
       "  'in_reply_to_user_id_str': None,\n",
       "  'in_reply_to_screen_name': None,\n",
       "  'geo': None,\n",
       "  'coordinates': None,\n",
       "  'place': None,\n",
       "  'contributors': None,\n",
       "  'is_quote_status': False,\n",
       "  'retweet_count': 0,\n",
       "  'favorite_count': 1,\n",
       "  'favorited': False,\n",
       "  'retweeted': False,\n",
       "  'lang': 'en'},\n",
       " 'contributors_enabled': False,\n",
       " 'is_translator': False,\n",
       " 'is_translation_enabled': False,\n",
       " 'profile_background_color': 'FAFAFA',\n",
       " 'profile_background_image_url': 'http://abs.twimg.com/images/themes/theme3/bg.gif',\n",
       " 'profile_background_image_url_https': 'https://abs.twimg.com/images/themes/theme3/bg.gif',\n",
       " 'profile_background_tile': True,\n",
       " 'profile_image_url': 'http://pbs.twimg.com/profile_images/1288334378616025089/xo1mfsam_normal.jpg',\n",
       " 'profile_image_url_https': 'https://pbs.twimg.com/profile_images/1288334378616025089/xo1mfsam_normal.jpg',\n",
       " 'profile_banner_url': 'https://pbs.twimg.com/profile_banners/16426961/1579520218',\n",
       " 'profile_link_color': '1B95E0',\n",
       " 'profile_sidebar_border_color': 'FFFFFF',\n",
       " 'profile_sidebar_fill_color': 'F0F0F0',\n",
       " 'profile_text_color': '000000',\n",
       " 'profile_use_background_image': True,\n",
       " 'has_extended_profile': True,\n",
       " 'default_profile': False,\n",
       " 'default_profile_image': False,\n",
       " 'following': False,\n",
       " 'live_following': False,\n",
       " 'follow_request_sent': False,\n",
       " 'notifications': False,\n",
       " 'muting': False,\n",
       " 'blocking': False,\n",
       " 'blocked_by': False,\n",
       " 'translator_type': 'none'}"
      ]
     },
     "execution_count": 10,
     "metadata": {},
     "output_type": "execute_result"
    }
   ],
   "source": [
    "txts_users[900]"
   ]
  },
  {
   "cell_type": "code",
   "execution_count": 56,
   "metadata": {},
   "outputs": [
    {
     "data": {
      "text/plain": [
       "{'id': 101619625,\n",
       " 'id_str': '101619625',\n",
       " 'name': 'Jennifer Ernst',\n",
       " 'screen_name': 'ernstjenniferr',\n",
       " 'location': 'Lexington, KY',\n",
       " 'description': 'translating nutritional science into the kitchen, advocate of healthy eating as a prevention and a lifestyle.',\n",
       " 'url': 'https://t.co/KHqvNMcdRW',\n",
       " 'entities': {'url': {'urls': [{'url': 'https://t.co/KHqvNMcdRW',\n",
       "     'expanded_url': 'http://www.betterfoodbestyou.com',\n",
       "     'display_url': 'betterfoodbestyou.com',\n",
       "     'indices': [0, 23]}]},\n",
       "  'description': {'urls': []}},\n",
       " 'protected': False,\n",
       " 'followers_count': 96,\n",
       " 'friends_count': 161,\n",
       " 'listed_count': 0,\n",
       " 'created_at': 'Mon Jan 04 01:11:13 +0000 2010',\n",
       " 'favourites_count': 1069,\n",
       " 'utc_offset': None,\n",
       " 'time_zone': None,\n",
       " 'geo_enabled': True,\n",
       " 'verified': False,\n",
       " 'statuses_count': 650,\n",
       " 'lang': None,\n",
       " 'status': {'created_at': 'Thu Aug 06 20:54:57 +0000 2020',\n",
       "  'id': 1291477885711155203,\n",
       "  'id_str': '1291477885711155203',\n",
       "  'text': '#ginger https://t.co/cDSc3qPxGD',\n",
       "  'truncated': False,\n",
       "  'entities': {'hashtags': [{'text': 'ginger', 'indices': [0, 7]}],\n",
       "   'symbols': [],\n",
       "   'user_mentions': [],\n",
       "   'urls': [{'url': 'https://t.co/cDSc3qPxGD',\n",
       "     'expanded_url': 'https://twitter.com/nutrition_facts/status/1291449083274637315',\n",
       "     'display_url': 'twitter.com/nutrition_fact…',\n",
       "     'indices': [8, 31]}]},\n",
       "  'source': '<a href=\"http://twitter.com/download/iphone\" rel=\"nofollow\">Twitter for iPhone</a>',\n",
       "  'in_reply_to_status_id': None,\n",
       "  'in_reply_to_status_id_str': None,\n",
       "  'in_reply_to_user_id': None,\n",
       "  'in_reply_to_user_id_str': None,\n",
       "  'in_reply_to_screen_name': None,\n",
       "  'geo': None,\n",
       "  'coordinates': None,\n",
       "  'place': None,\n",
       "  'contributors': None,\n",
       "  'is_quote_status': True,\n",
       "  'quoted_status_id': 1291449083274637315,\n",
       "  'quoted_status_id_str': '1291449083274637315',\n",
       "  'retweet_count': 0,\n",
       "  'favorite_count': 0,\n",
       "  'favorited': False,\n",
       "  'retweeted': False,\n",
       "  'possibly_sensitive': False,\n",
       "  'lang': 'und'},\n",
       " 'contributors_enabled': False,\n",
       " 'is_translator': False,\n",
       " 'is_translation_enabled': False,\n",
       " 'profile_background_color': 'C0DEED',\n",
       " 'profile_background_image_url': 'http://abs.twimg.com/images/themes/theme1/bg.png',\n",
       " 'profile_background_image_url_https': 'https://abs.twimg.com/images/themes/theme1/bg.png',\n",
       " 'profile_background_tile': False,\n",
       " 'profile_image_url': 'http://pbs.twimg.com/profile_images/1270161742748962817/EBEr-iM0_normal.jpg',\n",
       " 'profile_image_url_https': 'https://pbs.twimg.com/profile_images/1270161742748962817/EBEr-iM0_normal.jpg',\n",
       " 'profile_link_color': '1DA1F2',\n",
       " 'profile_sidebar_border_color': 'C0DEED',\n",
       " 'profile_sidebar_fill_color': 'DDEEF6',\n",
       " 'profile_text_color': '333333',\n",
       " 'profile_use_background_image': True,\n",
       " 'has_extended_profile': False,\n",
       " 'default_profile': True,\n",
       " 'default_profile_image': False,\n",
       " 'following': False,\n",
       " 'live_following': False,\n",
       " 'follow_request_sent': False,\n",
       " 'notifications': False,\n",
       " 'muting': False,\n",
       " 'blocking': False,\n",
       " 'blocked_by': False,\n",
       " 'translator_type': 'none'}"
      ]
     },
     "execution_count": 56,
     "metadata": {},
     "output_type": "execute_result"
    }
   ],
   "source": [
    "txts_users[0]"
   ]
  },
  {
   "cell_type": "code",
   "execution_count": 57,
   "metadata": {},
   "outputs": [],
   "source": [
    "#get values lists\n",
    "user_description=[]\n",
    "user_id=[]\n",
    "user_location=[]\n",
    "follower_count=[]\n",
    "friends_count=[]\n",
    "created_at=[]\n",
    "statuses_count=[]\n",
    "user_language=[]\n",
    "\n",
    "for line in txts_users:\n",
    "    user_description.append(line['description'])\n",
    "    user_id.append(line['id'])\n",
    "    user_location.append(line['location'])\n",
    "    follower_count.append(line['followers_count'])\n",
    "    friends_count.append(line['friends_count'])\n",
    "    created_at.append(line['created_at'])\n",
    "    statuses_count.append(line['statuses_count'])\n",
    "    user_language.append(line['lang'])"
   ]
  },
  {
   "cell_type": "code",
   "execution_count": 58,
   "metadata": {},
   "outputs": [
    {
     "name": "stdout",
     "output_type": "stream",
     "text": [
      "Requirement already satisfied: tweet-preprocessor in c:\\users\\phuonganh\\anaconda3\\lib\\site-packages (0.6.0)\n"
     ]
    }
   ],
   "source": [
    "!pip install tweet-preprocessor "
   ]
  },
  {
   "cell_type": "code",
   "execution_count": 59,
   "metadata": {},
   "outputs": [],
   "source": [
    "import preprocessor as p\n",
    "p.clean(user_description[1])\n",
    "\n",
    "# remove hushtags and urls in all descriptions\n",
    "user_description_clean = []\n",
    "for line in user_description:\n",
    "    user_description_clean.append(p.clean(line))\n",
    "    \n",
    "user_description_clean[:1]\n",
    "\n",
    "# create dataframe\n",
    "\n",
    "mbg_df = pd.DataFrame(list(zip(user_description_clean, user_id, user_location, follower_count,\n",
    "                               friends_count, created_at, statuses_count, user_language)), \n",
    "                             columns=['Description', 'Id', 'Location', 'Followers Count',\n",
    "                                      'Friends Count', 'Date Joined', 'Statuses Count', 'Language'])"
   ]
  },
  {
   "cell_type": "code",
   "execution_count": 60,
   "metadata": {},
   "outputs": [
    {
     "data": {
      "text/html": [
       "<div>\n",
       "<style scoped>\n",
       "    .dataframe tbody tr th:only-of-type {\n",
       "        vertical-align: middle;\n",
       "    }\n",
       "\n",
       "    .dataframe tbody tr th {\n",
       "        vertical-align: top;\n",
       "    }\n",
       "\n",
       "    .dataframe thead th {\n",
       "        text-align: right;\n",
       "    }\n",
       "</style>\n",
       "<table border=\"1\" class=\"dataframe\">\n",
       "  <thead>\n",
       "    <tr style=\"text-align: right;\">\n",
       "      <th></th>\n",
       "      <th>Description</th>\n",
       "      <th>Id</th>\n",
       "      <th>Location</th>\n",
       "      <th>Followers Count</th>\n",
       "      <th>Friends Count</th>\n",
       "      <th>Date Joined</th>\n",
       "      <th>Statuses Count</th>\n",
       "      <th>Language</th>\n",
       "    </tr>\n",
       "  </thead>\n",
       "  <tbody>\n",
       "    <tr>\n",
       "      <td>0</td>\n",
       "      <td>translating nutritional science into the kitch...</td>\n",
       "      <td>101619625</td>\n",
       "      <td>Lexington, KY</td>\n",
       "      <td>96</td>\n",
       "      <td>161</td>\n",
       "      <td>Mon Jan 04 01:11:13 +0000 2010</td>\n",
       "      <td>650</td>\n",
       "      <td>None</td>\n",
       "    </tr>\n",
       "    <tr>\n",
       "      <td>1</td>\n",
       "      <td>Organic Farm to Bottle Family Owned &amp; Operated...</td>\n",
       "      <td>1287731622352125953</td>\n",
       "      <td>Hendersonville, NC</td>\n",
       "      <td>4</td>\n",
       "      <td>145</td>\n",
       "      <td>Mon Jul 27 12:48:50 +0000 2020</td>\n",
       "      <td>7</td>\n",
       "      <td>None</td>\n",
       "    </tr>\n",
       "    <tr>\n",
       "      <td>2</td>\n",
       "      <td>WifeMommyYogi</td>\n",
       "      <td>1291909214294638593</td>\n",
       "      <td></td>\n",
       "      <td>1</td>\n",
       "      <td>10</td>\n",
       "      <td>Sat Aug 08 01:29:06 +0000 2020</td>\n",
       "      <td>0</td>\n",
       "      <td>None</td>\n",
       "    </tr>\n",
       "    <tr>\n",
       "      <td>3</td>\n",
       "      <td>Follow your dream</td>\n",
       "      <td>2182048904</td>\n",
       "      <td>Banka India</td>\n",
       "      <td>35</td>\n",
       "      <td>367</td>\n",
       "      <td>Fri Nov 08 11:45:33 +0000 2013</td>\n",
       "      <td>353</td>\n",
       "      <td>None</td>\n",
       "    </tr>\n",
       "    <tr>\n",
       "      <td>4</td>\n",
       "      <td>Trump</td>\n",
       "      <td>1291892079086501888</td>\n",
       "      <td></td>\n",
       "      <td>33</td>\n",
       "      <td>406</td>\n",
       "      <td>Sat Aug 08 00:21:04 +0000 2020</td>\n",
       "      <td>19</td>\n",
       "      <td>None</td>\n",
       "    </tr>\n",
       "    <tr>\n",
       "      <td>...</td>\n",
       "      <td>...</td>\n",
       "      <td>...</td>\n",
       "      <td>...</td>\n",
       "      <td>...</td>\n",
       "      <td>...</td>\n",
       "      <td>...</td>\n",
       "      <td>...</td>\n",
       "      <td>...</td>\n",
       "    </tr>\n",
       "    <tr>\n",
       "      <td>995</td>\n",
       "      <td>You are the focus of the Yew Leaf Program. We ...</td>\n",
       "      <td>1039559305589084162</td>\n",
       "      <td>Canada</td>\n",
       "      <td>6</td>\n",
       "      <td>52</td>\n",
       "      <td>Tue Sep 11 17:00:27 +0000 2018</td>\n",
       "      <td>35</td>\n",
       "      <td>None</td>\n",
       "    </tr>\n",
       "    <tr>\n",
       "      <td>996</td>\n",
       "      <td></td>\n",
       "      <td>3252778965</td>\n",
       "      <td></td>\n",
       "      <td>1</td>\n",
       "      <td>530</td>\n",
       "      <td>Wed May 13 22:33:50 +0000 2015</td>\n",
       "      <td>48</td>\n",
       "      <td>None</td>\n",
       "    </tr>\n",
       "    <tr>\n",
       "      <td>997</td>\n",
       "      <td></td>\n",
       "      <td>361247224</td>\n",
       "      <td></td>\n",
       "      <td>3</td>\n",
       "      <td>107</td>\n",
       "      <td>Wed Aug 24 13:55:36 +0000 2011</td>\n",
       "      <td>0</td>\n",
       "      <td>None</td>\n",
       "    </tr>\n",
       "    <tr>\n",
       "      <td>998</td>\n",
       "      <td></td>\n",
       "      <td>1238367840329056256</td>\n",
       "      <td></td>\n",
       "      <td>1</td>\n",
       "      <td>22</td>\n",
       "      <td>Fri Mar 13 07:34:48 +0000 2020</td>\n",
       "      <td>0</td>\n",
       "      <td>None</td>\n",
       "    </tr>\n",
       "    <tr>\n",
       "      <td>999</td>\n",
       "      <td></td>\n",
       "      <td>947177384620515328</td>\n",
       "      <td>Toronto, Ontario</td>\n",
       "      <td>53</td>\n",
       "      <td>1269</td>\n",
       "      <td>Sat Dec 30 18:47:41 +0000 2017</td>\n",
       "      <td>1097</td>\n",
       "      <td>None</td>\n",
       "    </tr>\n",
       "  </tbody>\n",
       "</table>\n",
       "<p>1000 rows × 8 columns</p>\n",
       "</div>"
      ],
      "text/plain": [
       "                                           Description                   Id  \\\n",
       "0    translating nutritional science into the kitch...            101619625   \n",
       "1    Organic Farm to Bottle Family Owned & Operated...  1287731622352125953   \n",
       "2                                        WifeMommyYogi  1291909214294638593   \n",
       "3                                    Follow your dream           2182048904   \n",
       "4                                                Trump  1291892079086501888   \n",
       "..                                                 ...                  ...   \n",
       "995  You are the focus of the Yew Leaf Program. We ...  1039559305589084162   \n",
       "996                                                              3252778965   \n",
       "997                                                               361247224   \n",
       "998                                                     1238367840329056256   \n",
       "999                                                      947177384620515328   \n",
       "\n",
       "               Location  Followers Count  Friends Count  \\\n",
       "0         Lexington, KY               96            161   \n",
       "1    Hendersonville, NC                4            145   \n",
       "2                                      1             10   \n",
       "3           Banka India               35            367   \n",
       "4                                     33            406   \n",
       "..                  ...              ...            ...   \n",
       "995              Canada                6             52   \n",
       "996                                    1            530   \n",
       "997                                    3            107   \n",
       "998                                    1             22   \n",
       "999    Toronto, Ontario               53           1269   \n",
       "\n",
       "                        Date Joined  Statuses Count Language  \n",
       "0    Mon Jan 04 01:11:13 +0000 2010             650     None  \n",
       "1    Mon Jul 27 12:48:50 +0000 2020               7     None  \n",
       "2    Sat Aug 08 01:29:06 +0000 2020               0     None  \n",
       "3    Fri Nov 08 11:45:33 +0000 2013             353     None  \n",
       "4    Sat Aug 08 00:21:04 +0000 2020              19     None  \n",
       "..                              ...             ...      ...  \n",
       "995  Tue Sep 11 17:00:27 +0000 2018              35     None  \n",
       "996  Wed May 13 22:33:50 +0000 2015              48     None  \n",
       "997  Wed Aug 24 13:55:36 +0000 2011               0     None  \n",
       "998  Fri Mar 13 07:34:48 +0000 2020               0     None  \n",
       "999  Sat Dec 30 18:47:41 +0000 2017            1097     None  \n",
       "\n",
       "[1000 rows x 8 columns]"
      ]
     },
     "execution_count": 60,
     "metadata": {},
     "output_type": "execute_result"
    }
   ],
   "source": [
    "mbg_df"
   ]
  },
  {
   "cell_type": "markdown",
   "metadata": {},
   "source": [
    "# Retrieving MBG's Followers' Tweets"
   ]
  },
  {
   "cell_type": "code",
   "execution_count": 61,
   "metadata": {},
   "outputs": [],
   "source": [
    "#get values lists\n",
    "user_id=[]\n",
    "user_tweet=[]\n",
    "time=[]\n",
    "\n",
    "for line in txts_users:\n",
    "    if 'status' not in list(line.keys()):\n",
    "        pass\n",
    "    else:\n",
    "        user_id.append(line['id'])\n",
    "        user_tweet.append(line['status']['text'])\n",
    "        time.append(line['status']['created_at'])"
   ]
  },
  {
   "cell_type": "code",
   "execution_count": 62,
   "metadata": {},
   "outputs": [],
   "source": [
    "# remove urls and hashtags in descriptions\n",
    "\n",
    "import preprocessor as p\n",
    "p.clean(user_description[1])\n",
    "\n",
    "# remove hushtags and urls in all descriptions\n",
    "tweet = []\n",
    "for line in user_tweet:\n",
    "    tweet.append(p.clean(line))\n",
    "    \n",
    "tweet[:1]\n",
    "\n",
    "# create dataframe\n",
    "\n",
    "mbg_aud_tweets = pd.DataFrame(list(zip(user_id, time, tweet)), \n",
    "                             columns=['Id', 'Time', 'Tweets'])"
   ]
  },
  {
   "cell_type": "code",
   "execution_count": 63,
   "metadata": {},
   "outputs": [
    {
     "data": {
      "text/html": [
       "<div>\n",
       "<style scoped>\n",
       "    .dataframe tbody tr th:only-of-type {\n",
       "        vertical-align: middle;\n",
       "    }\n",
       "\n",
       "    .dataframe tbody tr th {\n",
       "        vertical-align: top;\n",
       "    }\n",
       "\n",
       "    .dataframe thead th {\n",
       "        text-align: right;\n",
       "    }\n",
       "</style>\n",
       "<table border=\"1\" class=\"dataframe\">\n",
       "  <thead>\n",
       "    <tr style=\"text-align: right;\">\n",
       "      <th></th>\n",
       "      <th>Id</th>\n",
       "      <th>Time</th>\n",
       "      <th>Tweets</th>\n",
       "    </tr>\n",
       "  </thead>\n",
       "  <tbody>\n",
       "    <tr>\n",
       "      <td>0</td>\n",
       "      <td>101619625</td>\n",
       "      <td>Thu Aug 06 20:54:57 +0000 2020</td>\n",
       "      <td></td>\n",
       "    </tr>\n",
       "    <tr>\n",
       "      <td>1</td>\n",
       "      <td>1287731622352125953</td>\n",
       "      <td>Thu Aug 06 15:30:03 +0000 2020</td>\n",
       "      <td>August th is and we have a special sale to hel...</td>\n",
       "    </tr>\n",
       "    <tr>\n",
       "      <td>2</td>\n",
       "      <td>2182048904</td>\n",
       "      <td>Sat Aug 08 01:31:57 +0000 2020</td>\n",
       "      <td></td>\n",
       "    </tr>\n",
       "    <tr>\n",
       "      <td>3</td>\n",
       "      <td>1291892079086501888</td>\n",
       "      <td>Sat Aug 08 01:56:19 +0000 2020</td>\n",
       "      <td>: That time youre driving in Virginia and the ...</td>\n",
       "    </tr>\n",
       "    <tr>\n",
       "      <td>4</td>\n",
       "      <td>1289256723107196929</td>\n",
       "      <td>Mon Aug 03 13:50:24 +0000 2020</td>\n",
       "      <td>: As a nephrologist, I prescribed HCQ (plaquen...</td>\n",
       "    </tr>\n",
       "    <tr>\n",
       "      <td>...</td>\n",
       "      <td>...</td>\n",
       "      <td>...</td>\n",
       "      <td>...</td>\n",
       "    </tr>\n",
       "    <tr>\n",
       "      <td>752</td>\n",
       "      <td>1673239740</td>\n",
       "      <td>Tue Aug 04 21:20:38 +0000 2020</td>\n",
       "      <td>: Saw Texas Roadhouse trending and thought som...</td>\n",
       "    </tr>\n",
       "    <tr>\n",
       "      <td>753</td>\n",
       "      <td>567244654</td>\n",
       "      <td>Wed Aug 05 15:52:41 +0000 2020</td>\n",
       "      <td>: Coronavirus timeline</td>\n",
       "    </tr>\n",
       "    <tr>\n",
       "      <td>754</td>\n",
       "      <td>984442240960413697</td>\n",
       "      <td>Fri Aug 07 12:41:52 +0000 2020</td>\n",
       "      <td>I just sent a letter to asking her to please j...</td>\n",
       "    </tr>\n",
       "    <tr>\n",
       "      <td>755</td>\n",
       "      <td>1039559305589084162</td>\n",
       "      <td>Wed Aug 05 13:39:53 +0000 2020</td>\n",
       "      <td>Making the Transition A defining factor in the...</td>\n",
       "    </tr>\n",
       "    <tr>\n",
       "      <td>756</td>\n",
       "      <td>947177384620515328</td>\n",
       "      <td>Sat Jul 25 21:57:31 +0000 2020</td>\n",
       "      <td>He was the best, a legend indeed. Rest in Peac...</td>\n",
       "    </tr>\n",
       "  </tbody>\n",
       "</table>\n",
       "<p>757 rows × 3 columns</p>\n",
       "</div>"
      ],
      "text/plain": [
       "                      Id                            Time  \\\n",
       "0              101619625  Thu Aug 06 20:54:57 +0000 2020   \n",
       "1    1287731622352125953  Thu Aug 06 15:30:03 +0000 2020   \n",
       "2             2182048904  Sat Aug 08 01:31:57 +0000 2020   \n",
       "3    1291892079086501888  Sat Aug 08 01:56:19 +0000 2020   \n",
       "4    1289256723107196929  Mon Aug 03 13:50:24 +0000 2020   \n",
       "..                   ...                             ...   \n",
       "752           1673239740  Tue Aug 04 21:20:38 +0000 2020   \n",
       "753            567244654  Wed Aug 05 15:52:41 +0000 2020   \n",
       "754   984442240960413697  Fri Aug 07 12:41:52 +0000 2020   \n",
       "755  1039559305589084162  Wed Aug 05 13:39:53 +0000 2020   \n",
       "756   947177384620515328  Sat Jul 25 21:57:31 +0000 2020   \n",
       "\n",
       "                                                Tweets  \n",
       "0                                                       \n",
       "1    August th is and we have a special sale to hel...  \n",
       "2                                                       \n",
       "3    : That time youre driving in Virginia and the ...  \n",
       "4    : As a nephrologist, I prescribed HCQ (plaquen...  \n",
       "..                                                 ...  \n",
       "752  : Saw Texas Roadhouse trending and thought som...  \n",
       "753                             : Coronavirus timeline  \n",
       "754  I just sent a letter to asking her to please j...  \n",
       "755  Making the Transition A defining factor in the...  \n",
       "756  He was the best, a legend indeed. Rest in Peac...  \n",
       "\n",
       "[757 rows x 3 columns]"
      ]
     },
     "execution_count": 63,
     "metadata": {},
     "output_type": "execute_result"
    }
   ],
   "source": [
    "mbg_aud_tweets"
   ]
  },
  {
   "cell_type": "code",
   "execution_count": 64,
   "metadata": {},
   "outputs": [],
   "source": [
    "#SAVE FINAL CSV FILE\n",
    "mbg_aud_tweets.to_csv('MBG_Aud_tweets.csv', encoding='utf-8', index=False)"
   ]
  },
  {
   "cell_type": "code",
   "execution_count": 65,
   "metadata": {},
   "outputs": [],
   "source": [
    "import nltk\n",
    "import re\n",
    "from nltk.tokenize import RegexpTokenizer\n",
    "from nltk.corpus import stopwords\n",
    "from wordcloud import WordCloud\n",
    "import matplotlib.pyplot as plt\n",
    "from nltk.stem import WordNetLemmatizer\n",
    "from sklearn.feature_extraction.text import TfidfVectorizer\n",
    "from sklearn.feature_extraction.text import CountVectorizer"
   ]
  },
  {
   "cell_type": "code",
   "execution_count": 66,
   "metadata": {},
   "outputs": [],
   "source": [
    "Tweet_df = pd.read_csv('MBG_Aud_tweets.csv')"
   ]
  },
  {
   "cell_type": "code",
   "execution_count": 67,
   "metadata": {},
   "outputs": [
    {
     "data": {
      "text/html": [
       "<div>\n",
       "<style scoped>\n",
       "    .dataframe tbody tr th:only-of-type {\n",
       "        vertical-align: middle;\n",
       "    }\n",
       "\n",
       "    .dataframe tbody tr th {\n",
       "        vertical-align: top;\n",
       "    }\n",
       "\n",
       "    .dataframe thead th {\n",
       "        text-align: right;\n",
       "    }\n",
       "</style>\n",
       "<table border=\"1\" class=\"dataframe\">\n",
       "  <thead>\n",
       "    <tr style=\"text-align: right;\">\n",
       "      <th></th>\n",
       "      <th>Id</th>\n",
       "      <th>Time</th>\n",
       "      <th>Tweets</th>\n",
       "    </tr>\n",
       "  </thead>\n",
       "  <tbody>\n",
       "    <tr>\n",
       "      <td>0</td>\n",
       "      <td>101619625</td>\n",
       "      <td>Thu Aug 06 20:54:57 +0000 2020</td>\n",
       "      <td>NaN</td>\n",
       "    </tr>\n",
       "    <tr>\n",
       "      <td>1</td>\n",
       "      <td>1287731622352125953</td>\n",
       "      <td>Thu Aug 06 15:30:03 +0000 2020</td>\n",
       "      <td>August th is and we have a special sale to hel...</td>\n",
       "    </tr>\n",
       "    <tr>\n",
       "      <td>2</td>\n",
       "      <td>2182048904</td>\n",
       "      <td>Sat Aug 08 01:31:57 +0000 2020</td>\n",
       "      <td>NaN</td>\n",
       "    </tr>\n",
       "    <tr>\n",
       "      <td>3</td>\n",
       "      <td>1291892079086501888</td>\n",
       "      <td>Sat Aug 08 01:56:19 +0000 2020</td>\n",
       "      <td>: That time youre driving in Virginia and the ...</td>\n",
       "    </tr>\n",
       "    <tr>\n",
       "      <td>4</td>\n",
       "      <td>1289256723107196929</td>\n",
       "      <td>Mon Aug 03 13:50:24 +0000 2020</td>\n",
       "      <td>: As a nephrologist, I prescribed HCQ (plaquen...</td>\n",
       "    </tr>\n",
       "  </tbody>\n",
       "</table>\n",
       "</div>"
      ],
      "text/plain": [
       "                    Id                            Time  \\\n",
       "0            101619625  Thu Aug 06 20:54:57 +0000 2020   \n",
       "1  1287731622352125953  Thu Aug 06 15:30:03 +0000 2020   \n",
       "2           2182048904  Sat Aug 08 01:31:57 +0000 2020   \n",
       "3  1291892079086501888  Sat Aug 08 01:56:19 +0000 2020   \n",
       "4  1289256723107196929  Mon Aug 03 13:50:24 +0000 2020   \n",
       "\n",
       "                                              Tweets  \n",
       "0                                                NaN  \n",
       "1  August th is and we have a special sale to hel...  \n",
       "2                                                NaN  \n",
       "3  : That time youre driving in Virginia and the ...  \n",
       "4  : As a nephrologist, I prescribed HCQ (plaquen...  "
      ]
     },
     "execution_count": 67,
     "metadata": {},
     "output_type": "execute_result"
    }
   ],
   "source": [
    "Tweet_df.head()"
   ]
  },
  {
   "cell_type": "markdown",
   "metadata": {},
   "source": [
    "# lemmization"
   ]
  },
  {
   "cell_type": "code",
   "execution_count": 68,
   "metadata": {},
   "outputs": [
    {
     "name": "stdout",
     "output_type": "stream",
     "text": [
      "[nltk_data] Downloading package wordnet to\n",
      "[nltk_data]     C:\\Users\\PhuongAnh\\AppData\\Roaming\\nltk_data...\n",
      "[nltk_data]   Package wordnet is already up-to-date!\n",
      "[nltk_data] Downloading package stopwords to\n",
      "[nltk_data]     C:\\Users\\PhuongAnh\\AppData\\Roaming\\nltk_data...\n",
      "[nltk_data]   Package stopwords is already up-to-date!\n"
     ]
    },
    {
     "data": {
      "text/plain": [
       "['nan',\n",
       " 'august th special sale help reap benefit',\n",
       " 'nan',\n",
       " 'time youre driving virginia attorney general spot group people front police precinct show',\n",
       " 'nephrologist prescribed hcq plaquenil thousand patient severe lupus always told one']"
      ]
     },
     "execution_count": 68,
     "metadata": {},
     "output_type": "execute_result"
    }
   ],
   "source": [
    "nltk.download('wordnet')   \n",
    "# define stop words\n",
    "nltk.download('stopwords') \n",
    "stop_words = set(stopwords.words(\"english\"))\n",
    "\n",
    "def fix_Text2(text):\n",
    "    letters_only = re.sub(\"[^a-zA-Z]\",\" \", str(text))\n",
    "    words=letters_only.lower().split()\n",
    "    meaningful=[WordNetLemmatizer().lemmatize(word) for word in words if word not in stop_words]\n",
    "    return(\" \".join(meaningful))\n",
    "\n",
    "num_resp = Tweet_df[\"Tweets\"].size   #df\n",
    "clean_Tweet_lemmization = []     #clean_\n",
    "\n",
    "for i in range(0,num_resp):\n",
    "    clean_Tweet_lemmization.append(fix_Text2(Tweet_df[\"Tweets\"][i])) #clean_\n",
    "\n",
    "clean_Tweet_lemmization[0:5]    ## clean_"
   ]
  },
  {
   "cell_type": "code",
   "execution_count": 69,
   "metadata": {},
   "outputs": [
    {
     "data": {
      "text/plain": [
       "757"
      ]
     },
     "execution_count": 69,
     "metadata": {},
     "output_type": "execute_result"
    }
   ],
   "source": [
    "len(clean_Tweet_lemmization)"
   ]
  },
  {
   "cell_type": "code",
   "execution_count": 70,
   "metadata": {},
   "outputs": [
    {
     "data": {
      "image/png": "[encoded data removed]",
      "text/plain": [
       "<Figure size 720x720 with 1 Axes>"
      ]
     },
     "metadata": {
      "needs_background": "light"
     },
     "output_type": "display_data"
    }
   ],
   "source": [
    "# word cloud\n",
    "text_wc = \" \".join(item for item in clean_Tweet_lemmization)    #clean_\n",
    "wordcloud = WordCloud(background_color=\"white\").generate(text_wc)\n",
    "\n",
    "plt.figure(figsize = (10, 10))\n",
    "plt.imshow(wordcloud, interpolation=\"bilinear\")\n",
    "plt.axis(\"off\")\n",
    "plt.show()"
   ]
  },
  {
   "cell_type": "code",
   "execution_count": 71,
   "metadata": {},
   "outputs": [
    {
     "data": {
      "text/plain": [
       "(757, 2751)"
      ]
     },
     "execution_count": 71,
     "metadata": {},
     "output_type": "execute_result"
    }
   ],
   "source": [
    "tv=TfidfVectorizer() \n",
    "tv_transform=tv.fit_transform(clean_Tweet_lemmization)\n",
    "tv_transform.shape"
   ]
  },
  {
   "cell_type": "markdown",
   "metadata": {},
   "source": [
    "# cluster audiences"
   ]
  },
  {
   "cell_type": "code",
   "execution_count": 72,
   "metadata": {},
   "outputs": [],
   "source": [
    "from scipy.cluster.vq import kmeans,vq"
   ]
  },
  {
   "cell_type": "code",
   "execution_count": 73,
   "metadata": {},
   "outputs": [],
   "source": [
    "\n",
    "num_clusters=5  # change the # of clusters\n",
    "cluster_centers,distortion=kmeans(tv_transform.todense(),num_clusters)"
   ]
  },
  {
   "cell_type": "markdown",
   "metadata": {},
   "source": [
    "# unigram"
   ]
  },
  {
   "cell_type": "code",
   "execution_count": 74,
   "metadata": {},
   "outputs": [],
   "source": [
    "tv=TfidfVectorizer(max_features=100)  # 1.change # of features 2.maybe min_df\n",
    "tv_transform=tv.fit_transform(clean_Tweet_lemmization)"
   ]
  },
  {
   "cell_type": "code",
   "execution_count": 75,
   "metadata": {},
   "outputs": [
    {
     "name": "stdout",
     "output_type": "stream",
     "text": [
      "['always', 'amp', 'back']\n",
      "['week', 'well', 'think']\n",
      "['different', 'que', 'think']\n",
      "['thought', 'love', 'done']\n",
      "['want', 'please', 'dont']\n"
     ]
    }
   ],
   "source": [
    "terms=tv.get_feature_names()\n",
    "for i in range(num_clusters):\n",
    "    center_terms=dict(zip(terms,list(cluster_centers[i])))\n",
    "    sorted_terms=sorted(center_terms,key=center_terms.get,reverse=True)\n",
    "    print(sorted_terms[:3])"
   ]
  },
  {
   "cell_type": "markdown",
   "metadata": {},
   "source": [
    "# bigram"
   ]
  },
  {
   "cell_type": "code",
   "execution_count": 76,
   "metadata": {},
   "outputs": [],
   "source": [
    "tv=TfidfVectorizer(max_features=100,ngram_range=(2,2)) \n",
    "tv_transform=tv.fit_transform(clean_Tweet_lemmization)"
   ]
  },
  {
   "cell_type": "code",
   "execution_count": 77,
   "metadata": {},
   "outputs": [
    {
     "name": "stdout",
     "output_type": "stream",
     "text": [
      "['altura de', 'avoid food', 'award winning']\n",
      "['way always', 'wearing mask', 'rest peace']\n",
      "['economic justice', 'pictured item', 'rest peace']\n",
      "['schne tochter', 'person pervert', 'emotional agility']\n",
      "['time book', 'physician sharing', 'en la']\n"
     ]
    }
   ],
   "source": [
    "terms=tv.get_feature_names()\n",
    "for i in range(num_clusters):\n",
    "    center_terms=dict(zip(terms,list(cluster_centers[i])))\n",
    "    sorted_terms=sorted(center_terms,key=center_terms.get,reverse=True)\n",
    "    print(sorted_terms[:3])"
   ]
  },
  {
   "cell_type": "markdown",
   "metadata": {},
   "source": [
    "# unigram & bigram"
   ]
  },
  {
   "cell_type": "code",
   "execution_count": 78,
   "metadata": {},
   "outputs": [],
   "source": [
    "tv=TfidfVectorizer(max_features=100,ngram_range=(1,2)) \n",
    "tv_transform=tv.fit_transform(clean_Tweet_lemmization)"
   ]
  },
  {
   "cell_type": "code",
   "execution_count": 79,
   "metadata": {},
   "outputs": [
    {
     "name": "stdout",
     "output_type": "stream",
     "text": [
      "['always', 'amp', 'around', 'back', 'beautiful']\n",
      "['week', 'well', 'thing', 'via', 'food']\n",
      "['day', 'people', 'thing', 'always', 'amp']\n",
      "['thinking', 'live', 'de', 'would', 'begin']\n",
      "['want', 'new', 'different', 'amp', 'begin']\n"
     ]
    }
   ],
   "source": [
    "terms=tv.get_feature_names()\n",
    "for i in range(num_clusters):\n",
    "    center_terms=dict(zip(terms,list(cluster_centers[i])))\n",
    "    sorted_terms=sorted(center_terms,key=center_terms.get,reverse=True)\n",
    "    print(sorted_terms[:5])"
   ]
  },
  {
   "cell_type": "markdown",
   "metadata": {},
   "source": [
    "# Inspect importance"
   ]
  },
  {
   "cell_type": "code",
   "execution_count": 80,
   "metadata": {},
   "outputs": [],
   "source": [
    "columns=tv.get_feature_names() # feature names\n",
    "#transform to DF\n",
    "Tweet=pd.DataFrame(tv_transform.toarray(),columns=columns) #df_\n",
    "# insepct transformation\n",
    "tv_sum=Tweet.sum() #df"
   ]
  },
  {
   "cell_type": "code",
   "execution_count": 81,
   "metadata": {},
   "outputs": [
    {
     "data": {
      "text/plain": [
       "nan       67.521914\n",
       "love      17.951190\n",
       "amp       16.397875\n",
       "need      15.809971\n",
       "life      14.482799\n",
       "today     14.064940\n",
       "day       13.222475\n",
       "one       13.184877\n",
       "right     12.743743\n",
       "get       12.583261\n",
       "like      12.480768\n",
       "people    12.357782\n",
       "know      12.165611\n",
       "back      11.825999\n",
       "help      11.515053\n",
       "go        11.121216\n",
       "new       10.957869\n",
       "make      10.224171\n",
       "de        10.026855\n",
       "great      9.316476\n",
       "dtype: float64"
      ]
     },
     "execution_count": 81,
     "metadata": {},
     "output_type": "execute_result"
    }
   ],
   "source": [
    "tv_sum.sort_values(ascending=False).head(20)"
   ]
  },
  {
   "cell_type": "code",
   "execution_count": null,
   "metadata": {},
   "outputs": [],
   "source": []
  }
 ],
 "metadata": {
  "kernelspec": {
   "display_name": "Python 3",
   "language": "python",
   "name": "python3"
  },
  "language_info": {
   "codemirror_mode": {
    "name": "ipython",
    "version": 3
   },
   "file_extension": ".py",
   "mimetype": "text/x-python",
   "name": "python",
   "nbconvert_exporter": "python",
   "pygments_lexer": "ipython3",
   "version": "3.7.4"
  }
 },
 "nbformat": 4,
 "nbformat_minor": 2
}
